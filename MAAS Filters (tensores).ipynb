{
 "cells": [
  {
   "cell_type": "markdown",
   "metadata": {
    "id": "zPaoKYMxbpBu"
   },
   "source": [
    "# **MAAS Audio Filtering**\n",
    "\n",
    "This notebook details the process of filtering wav audio files for usage in the MAAS project. The first five steps are an implementation of the process described by Salamon and Gómez [2]. The rest is inspired by the research done by Wang [3]."
   ]
  },
  {
   "cell_type": "code",
   "execution_count": 1,
   "metadata": {},
   "outputs": [
    {
     "name": "stdout",
     "output_type": "stream",
     "text": [
      "time: 51.3 µs (started: 2024-11-07 01:52:36 -08:00)\n"
     ]
    }
   ],
   "source": [
    "%load_ext autotime"
   ]
  },
  {
   "cell_type": "code",
   "execution_count": 2,
   "metadata": {
    "executionInfo": {
     "elapsed": 2253,
     "status": "ok",
     "timestamp": 1730944146423,
     "user": {
      "displayName": "MAURICIO ALCANTAR",
      "userId": "16480899961778612666"
     },
     "user_tz": 480
    },
    "id": "iFYWPZ4s64Oj"
   },
   "outputs": [
    {
     "name": "stderr",
     "output_type": "stream",
     "text": [
      "2024-11-07 01:52:37.634788: I tensorflow/core/util/port.cc:153] oneDNN custom operations are on. You may see slightly different numerical results due to floating-point round-off errors from different computation orders. To turn them off, set the environment variable `TF_ENABLE_ONEDNN_OPTS=0`.\n",
      "2024-11-07 01:52:37.643324: E external/local_xla/xla/stream_executor/cuda/cuda_fft.cc:477] Unable to register cuFFT factory: Attempting to register factory for plugin cuFFT when one has already been registered\n",
      "WARNING: All log messages before absl::InitializeLog() is called are written to STDERR\n",
      "E0000 00:00:1730973157.652532    2324 cuda_dnn.cc:8310] Unable to register cuDNN factory: Attempting to register factory for plugin cuDNN when one has already been registered\n",
      "E0000 00:00:1730973157.655128    2324 cuda_blas.cc:1418] Unable to register cuBLAS factory: Attempting to register factory for plugin cuBLAS when one has already been registered\n",
      "2024-11-07 01:52:37.666017: I tensorflow/core/platform/cpu_feature_guard.cc:210] This TensorFlow binary is optimized to use available CPU instructions in performance-critical operations.\n",
      "To enable the following instructions: AVX2 AVX512F AVX512_VNNI AVX512_BF16 FMA, in other operations, rebuild TensorFlow with the appropriate compiler flags.\n"
     ]
    },
    {
     "name": "stdout",
     "output_type": "stream",
     "text": [
      "TensorFlow version: 2.18.0\n",
      "GPU is available: [PhysicalDevice(name='/physical_device:GPU:0', device_type='GPU')]\n",
      "time: 2.14 s (started: 2024-11-07 01:52:36 -08:00)\n"
     ]
    }
   ],
   "source": [
    "# Imports\n",
    "import numpy as np\n",
    "from scipy import signal as sig\n",
    "from scipy.io import wavfile as wav\n",
    "import matplotlib.pyplot as plt\n",
    "import tensorflow as tf\n",
    "\n",
    "import tensorflow as tf\n",
    "print(\"TensorFlow version:\", tf.__version__)\n",
    "print(\"GPU is available:\", tf.config.list_physical_devices('GPU'))"
   ]
  },
  {
   "cell_type": "code",
   "execution_count": 3,
   "metadata": {
    "executionInfo": {
     "elapsed": 270,
     "status": "ok",
     "timestamp": 1730944147999,
     "user": {
      "displayName": "MAURICIO ALCANTAR",
      "userId": "16480899961778612666"
     },
     "user_tz": 480
    },
    "id": "pjzqalmaMyZ2"
   },
   "outputs": [
    {
     "name": "stdout",
     "output_type": "stream",
     "text": [
      "time: 955 µs (started: 2024-11-07 01:52:39 -08:00)\n"
     ]
    }
   ],
   "source": [
    "# Read source wav file\n",
    "sr, data = wav.read(\"./ui.wav\")"
   ]
  },
  {
   "cell_type": "markdown",
   "metadata": {
    "id": "35oQiHI2UiAH"
   },
   "source": [
    "## **Step 1.** Sinusoid Extraction"
   ]
  },
  {
   "cell_type": "code",
   "execution_count": 4,
   "metadata": {
    "executionInfo": {
     "elapsed": 2,
     "status": "ok",
     "timestamp": 1730944149123,
     "user": {
      "displayName": "MAURICIO ALCANTAR",
      "userId": "16480899961778612666"
     },
     "user_tz": 480
    },
    "id": "cyg1vWP9VfS8"
   },
   "outputs": [
    {
     "name": "stdout",
     "output_type": "stream",
     "text": [
      "time: 434 ms (started: 2024-11-07 01:52:39 -08:00)\n"
     ]
    },
    {
     "name": "stderr",
     "output_type": "stream",
     "text": [
      "I0000 00:00:1730973159.168587    2324 gpu_device.cc:2022] Created device /job:localhost/replica:0/task:0/device:GPU:0 with 5563 MB memory:  -> device: 0, name: NVIDIA GeForce RTX 4060, pci bus id: 0000:01:00.0, compute capability: 8.9\n",
      "I0000 00:00:1730973159.342518    2324 cuda_dnn.cc:529] Loaded cuDNN version 90300\n"
     ]
    }
   ],
   "source": [
    "# 1.1. Equal Loudness Filtering\n",
    "# Filter approximation by [1]\n",
    "\n",
    "yule_b = tf.constant([0.05418656406430, -0.02911007808948, -0.00848709379851, -0.00851165645469,\n",
    "                   -0.00834990904936, 0.02245293253339, -0.02596338512915, 0.01624864962975,\n",
    "                   -0.00240879051584, 0.00674613682247, -0.00187763777362], dtype=tf.float32)\n",
    "yule_a = tf.constant([1.0, -3.47845948550071, 6.36317777566148, -8.54751527471874, 9.47693607801280,\n",
    "                   -8.81498681370155, 6.85401540936998, -4.39470996079559, 2.19611684890774,\n",
    "                   -0.75104302451432, 0.13149317958808], dtype=tf.float32)\n",
    "butter_b = tf.constant([0.98500175787242, -1.97000351574484, 0.98500175787242], dtype=tf.float32)\n",
    "butter_a = tf.constant([1.0, -1.96977855582618, 0.97022847566350], dtype=tf.float32)\n",
    "\n",
    "yule_b   = tf.reshape(yule_b, [1, int(yule_b.shape[0]), 1], name='yule_b')\n",
    "butter_b = tf.reshape(butter_b, [int(butter_b.shape[0]), 1, 1], name='butter_b')\n",
    "num = tf.squeeze(tf.nn.conv1d(yule_b, butter_b, 1, 'VALID'))\n",
    "\n",
    "yule_a   = tf.reshape(yule_a, [1, int(yule_a.shape[0]), 1], name='yule_a')\n",
    "butter_a = tf.reshape(butter_a, [int(butter_a.shape[0]), 1, 1], name='butter_a')\n",
    "den = tf.squeeze(tf.nn.conv1d(yule_a, butter_a, 1, 'VALID'))\n",
    "\n",
    "eq_data = sig.lfilter(num, den, data)\n",
    "# Convierte los datos a un tensor de TensorFlow y colócalos en la GPU\n",
    "with tf.device('/GPU:0'):\n",
    "    eq_data = tf.convert_to_tensor(eq_data, dtype=tf.float32)"
   ]
  },
  {
   "cell_type": "code",
   "execution_count": 8,
   "metadata": {
    "executionInfo": {
     "elapsed": 1263,
     "status": "ok",
     "timestamp": 1730944151537,
     "user": {
      "displayName": "MAURICIO ALCANTAR",
      "userId": "16480899961778612666"
     },
     "user_tz": 480
    },
    "id": "iA_BBhKtGEW8"
   },
   "outputs": [
    {
     "ename": "AttributeError",
     "evalue": "'tensorflow.python.framework.ops.EagerTensor' object has no attribute 'stft'",
     "output_type": "error",
     "traceback": [
      "\u001b[0;31m---------------------------------------------------------------------------\u001b[0m",
      "\u001b[0;31mAttributeError\u001b[0m                            Traceback (most recent call last)",
      "Cell \u001b[0;32mIn[8], line 18\u001b[0m\n\u001b[1;32m     16\u001b[0m \u001b[38;5;66;03m# Aplica la STFT\u001b[39;00m\n\u001b[1;32m     17\u001b[0m SFT \u001b[38;5;241m=\u001b[39m tf\u001b[38;5;241m.\u001b[39msignal\u001b[38;5;241m.\u001b[39mstft(window, frame_length\u001b[38;5;241m=\u001b[39mM, frame_step\u001b[38;5;241m=\u001b[39mH, fft_length\u001b[38;5;241m=\u001b[39mN, window_fn\u001b[38;5;241m=\u001b[39mwindow_fn1)\n\u001b[0;32m---> 18\u001b[0m Sx \u001b[38;5;241m=\u001b[39m \u001b[43mSFT\u001b[49m\u001b[38;5;241;43m.\u001b[39;49m\u001b[43mstft\u001b[49m(eq_data)\n\u001b[1;32m     20\u001b[0m abs_Sx \u001b[38;5;241m=\u001b[39m tf\u001b[38;5;241m.\u001b[39mabs(Sx)\n",
      "File \u001b[0;32m~/miniconda3/envs/MAAS/lib/python3.9/site-packages/tensorflow/python/framework/tensor.py:260\u001b[0m, in \u001b[0;36mTensor.__getattr__\u001b[0;34m(self, name)\u001b[0m\n\u001b[1;32m    252\u001b[0m \u001b[38;5;28;01mif\u001b[39;00m name \u001b[38;5;129;01min\u001b[39;00m {\u001b[38;5;124m\"\u001b[39m\u001b[38;5;124mT\u001b[39m\u001b[38;5;124m\"\u001b[39m, \u001b[38;5;124m\"\u001b[39m\u001b[38;5;124mastype\u001b[39m\u001b[38;5;124m\"\u001b[39m, \u001b[38;5;124m\"\u001b[39m\u001b[38;5;124mravel\u001b[39m\u001b[38;5;124m\"\u001b[39m, \u001b[38;5;124m\"\u001b[39m\u001b[38;5;124mtranspose\u001b[39m\u001b[38;5;124m\"\u001b[39m, \u001b[38;5;124m\"\u001b[39m\u001b[38;5;124mreshape\u001b[39m\u001b[38;5;124m\"\u001b[39m, \u001b[38;5;124m\"\u001b[39m\u001b[38;5;124mclip\u001b[39m\u001b[38;5;124m\"\u001b[39m, \u001b[38;5;124m\"\u001b[39m\u001b[38;5;124msize\u001b[39m\u001b[38;5;124m\"\u001b[39m,\n\u001b[1;32m    253\u001b[0m             \u001b[38;5;124m\"\u001b[39m\u001b[38;5;124mtolist\u001b[39m\u001b[38;5;124m\"\u001b[39m, \u001b[38;5;124m\"\u001b[39m\u001b[38;5;124mdata\u001b[39m\u001b[38;5;124m\"\u001b[39m}:\n\u001b[1;32m    254\u001b[0m   \u001b[38;5;66;03m# TODO(wangpeng): Export the enable_numpy_behavior knob\u001b[39;00m\n\u001b[1;32m    255\u001b[0m   \u001b[38;5;28;01mraise\u001b[39;00m \u001b[38;5;167;01mAttributeError\u001b[39;00m(\n\u001b[1;32m    256\u001b[0m       \u001b[38;5;124mf\u001b[39m\u001b[38;5;124m\"\u001b[39m\u001b[38;5;132;01m{\u001b[39;00m\u001b[38;5;28mtype\u001b[39m(\u001b[38;5;28mself\u001b[39m)\u001b[38;5;241m.\u001b[39m\u001b[38;5;18m__name__\u001b[39m\u001b[38;5;132;01m}\u001b[39;00m\u001b[38;5;124m object has no attribute \u001b[39m\u001b[38;5;124m'\u001b[39m\u001b[38;5;132;01m{\u001b[39;00mname\u001b[38;5;132;01m}\u001b[39;00m\u001b[38;5;124m'\u001b[39m\u001b[38;5;124m. \u001b[39m\u001b[38;5;124m\"\u001b[39m \u001b[38;5;241m+\u001b[39m \u001b[38;5;124m\"\"\"\u001b[39m\n\u001b[1;32m    257\u001b[0m \u001b[38;5;124m    If you are looking for numpy-related methods, please run the following:\u001b[39m\n\u001b[1;32m    258\u001b[0m \u001b[38;5;124m    tf.experimental.numpy.experimental_enable_numpy_behavior()\u001b[39m\n\u001b[1;32m    259\u001b[0m \u001b[38;5;124m  \u001b[39m\u001b[38;5;124m\"\"\"\u001b[39m)\n\u001b[0;32m--> 260\u001b[0m \u001b[38;5;28;43mself\u001b[39;49m\u001b[38;5;241;43m.\u001b[39;49m\u001b[38;5;21;43m__getattribute__\u001b[39;49m\u001b[43m(\u001b[49m\u001b[43mname\u001b[49m\u001b[43m)\u001b[49m\n",
      "\u001b[0;31mAttributeError\u001b[0m: 'tensorflow.python.framework.ops.EagerTensor' object has no attribute 'stft'"
     ]
    },
    {
     "name": "stdout",
     "output_type": "stream",
     "text": [
      "time: 39.8 ms (started: 2024-11-07 01:55:23 -08:00)\n"
     ]
    }
   ],
   "source": [
    "# 1.2. Spectral Transform\n",
    "# Apply Short-Time Fourier Transform\n",
    "\n",
    "# Constants as calculated by [2]\n",
    "# Values specific to 44.1 kHz, should be scalable to other sample rates\n",
    "M = 2048\n",
    "N = 8192\n",
    "H = 128\n",
    "\n",
    "# Define la ventana Hann en TensorFlow\n",
    "window = tf.signal.hann_window(M, periodic=False, dtype=tf.float32)\n",
    "\n",
    "def window_fn1(frame_length, dtype):\n",
    "    return window\n",
    "\n",
    "# Aplica la STFT\n",
    "SFT = tf.signal.stft(window, frame_length=M, frame_step=H, fft_length=N, window_fn=window_fn1)\n",
    "Sx = SFT.stft(eq_data)\n",
    "\n",
    "abs_Sx = tf.abs(Sx)"
   ]
  },
  {
   "cell_type": "code",
   "execution_count": 6,
   "metadata": {
    "colab": {
     "base_uri": "https://localhost:8080/",
     "height": 626
    },
    "executionInfo": {
     "elapsed": 1508,
     "status": "ok",
     "timestamp": 1730944153848,
     "user": {
      "displayName": "MAURICIO ALCANTAR",
      "userId": "16480899961778612666"
     },
     "user_tz": 480
    },
    "id": "_Ye1fa0OWpfZ",
    "outputId": "be6d0a01-23af-46ef-c0bc-bdef28b4af8d"
   },
   "outputs": [
    {
     "ename": "NameError",
     "evalue": "name 'SFT' is not defined",
     "output_type": "error",
     "traceback": [
      "\u001b[0;31m---------------------------------------------------------------------------\u001b[0m",
      "\u001b[0;31mNameError\u001b[0m                                 Traceback (most recent call last)",
      "Cell \u001b[0;32mIn[6], line 6\u001b[0m\n\u001b[1;32m      2\u001b[0m fig1, ax1 \u001b[38;5;241m=\u001b[39m plt\u001b[38;5;241m.\u001b[39msubplots(figsize\u001b[38;5;241m=\u001b[39m(\u001b[38;5;241m9.\u001b[39m, \u001b[38;5;241m6.\u001b[39m))\n\u001b[1;32m      3\u001b[0m ax1\u001b[38;5;241m.\u001b[39mset(ylim\u001b[38;5;241m=\u001b[39m(\u001b[38;5;241m0\u001b[39m, \u001b[38;5;241m5000\u001b[39m))\n\u001b[1;32m      5\u001b[0m im1 \u001b[38;5;241m=\u001b[39m ax1\u001b[38;5;241m.\u001b[39mimshow(abs_Sx, origin\u001b[38;5;241m=\u001b[39m\u001b[38;5;124m'\u001b[39m\u001b[38;5;124mlower\u001b[39m\u001b[38;5;124m'\u001b[39m, aspect\u001b[38;5;241m=\u001b[39m\u001b[38;5;124m'\u001b[39m\u001b[38;5;124mauto\u001b[39m\u001b[38;5;124m'\u001b[39m,\n\u001b[0;32m----> 6\u001b[0m                  extent\u001b[38;5;241m=\u001b[39m\u001b[43mSFT\u001b[49m\u001b[38;5;241m.\u001b[39mextent(sr\u001b[38;5;241m*\u001b[39mnp\u001b[38;5;241m.\u001b[39msize(data)), cmap\u001b[38;5;241m=\u001b[39m\u001b[38;5;124m'\u001b[39m\u001b[38;5;124mviridis\u001b[39m\u001b[38;5;124m'\u001b[39m)\n\u001b[1;32m      7\u001b[0m fig1\u001b[38;5;241m.\u001b[39mcolorbar(im1)\n\u001b[1;32m      8\u001b[0m fig1\u001b[38;5;241m.\u001b[39mtight_layout()\n",
      "\u001b[0;31mNameError\u001b[0m: name 'SFT' is not defined"
     ]
    },
    {
     "data": {
      "image/png": "[encoded data removed]",
      "text/plain": [
       "<Figure size 900x600 with 1 Axes>"
      ]
     },
     "metadata": {},
     "output_type": "display_data"
    },
    {
     "name": "stdout",
     "output_type": "stream",
     "text": [
      "time: 340 ms (started: 2024-11-07 01:52:39 -08:00)\n"
     ]
    }
   ],
   "source": [
    "# Spectogram only for illustration purposes\n",
    "fig1, ax1 = plt.subplots(figsize=(9., 6.))\n",
    "ax1.set(ylim=(0, 5000))\n",
    "\n",
    "im1 = ax1.imshow(abs_Sx, origin='lower', aspect='auto',\n",
    "                 extent=SFT.extent(sr*np.size(data)), cmap='viridis')\n",
    "fig1.colorbar(im1)\n",
    "fig1.tight_layout()\n",
    "\n",
    "plt.show()"
   ]
  },
  {
   "cell_type": "code",
   "execution_count": null,
   "metadata": {
    "executionInfo": {
     "elapsed": 1863,
     "status": "ok",
     "timestamp": 1730944163686,
     "user": {
      "displayName": "MAURICIO ALCANTAR",
      "userId": "16480899961778612666"
     },
     "user_tz": 480
    },
    "id": "TDthdnP7sbaN"
   },
   "outputs": [],
   "source": [
    "# 1.3. Frequency/Amplitude Correction\n",
    "# Identify local maxima of each time frame\n",
    "\n",
    "peaks = sig.argrelmax(abs_Sx, axis=0, order=2)\n",
    "pcp = max(abs(Sx[peaks[0], peaks[1]])) / 20\n",
    "\n",
    "peak_ids = np.zeros(0, dtype=int)\n",
    "for i in range(peaks[0].size):\n",
    "  if abs(Sx[peaks[0][i], peaks[1][i]]) > pcp:\n",
    "    peak_ids = np.append(peak_ids, i)\n",
    "\n",
    "peaks_f = peaks[0][peak_ids]\n",
    "peaks_t = peaks[1][peak_ids]"
   ]
  },
  {
   "cell_type": "code",
   "execution_count": null,
   "metadata": {
    "colab": {
     "base_uri": "https://localhost:8080/",
     "height": 626
    },
    "executionInfo": {
     "elapsed": 1266,
     "status": "ok",
     "timestamp": 1730944166978,
     "user": {
      "displayName": "MAURICIO ALCANTAR",
      "userId": "16480899961778612666"
     },
     "user_tz": 480
    },
    "id": "uIJakvjCio57",
    "outputId": "1791f5ed-7d7b-4d6b-db30-6f5c8ad4217c"
   },
   "outputs": [],
   "source": [
    "# Graph only for illustration purposes\n",
    "fig1, ax1 = plt.subplots(figsize=(9., 6.))\n",
    "ax1.set(ylim=(0, 5000))\n",
    "\n",
    "extents = SFT.extent(sr*data.size)\n",
    "x_scale = data.size/Sx.shape[1]\n",
    "y_scale = sr/N\n",
    "\n",
    "im1 = ax1.imshow(abs_Sx, origin='lower', aspect='auto',\n",
    "                 extent=extents, cmap='viridis')\n",
    "ax1.plot(peaks_t * x_scale, peaks_f * y_scale, 'y.')\n",
    "\n",
    "fig1.colorbar(im1)\n",
    "fig1.tight_layout()\n",
    "\n",
    "plt.show()"
   ]
  },
  {
   "cell_type": "code",
   "execution_count": null,
   "metadata": {
    "executionInfo": {
     "elapsed": 867,
     "status": "ok",
     "timestamp": 1730944176034,
     "user": {
      "displayName": "MAURICIO ALCANTAR",
      "userId": "16480899961778612666"
     },
     "user_tz": 480
    },
    "id": "QKecWBjlRibK"
   },
   "outputs": [],
   "source": [
    "# Correct frequency and amplitude based on peaks' phase\n",
    "# Done by computing instantaneous frequency (IF) and magnitude (Ai)\n",
    "\n",
    "IF = np.zeros(peaks_f.size)\n",
    "Ai = np.zeros(peaks_f.size)\n",
    "koff = np.zeros(peaks_f.size)\n",
    "\n",
    "for i in range(IF.size):\n",
    "  k_offset = np.angle(Sx[peaks_f[i], peaks_t[i]]) - (2*np.pi*H*peaks_f[i]/N)\n",
    "  if peaks_t[i] > 0: k_offset -= np.angle(Sx[peaks_f[i], peaks_t[i]-1])\n",
    "  k_offset = k_offset%(2*np.pi)\n",
    "  if k_offset > np.pi: k_offset -= 2*np.pi\n",
    "  Wh = np.sinc(k_offset) / (2*(1 - k_offset**2))\n",
    "  koff[i] = k_offset\n",
    "  k_offset *= N/(2*np.pi*H)\n",
    "\n",
    "  IF[i] = (peaks_f[i] + k_offset) * y_scale\n",
    "  Ai[i] = abs(Sx[peaks_f[i], peaks_t[i]]) / (2*Wh)"
   ]
  },
  {
   "cell_type": "code",
   "execution_count": null,
   "metadata": {
    "colab": {
     "base_uri": "https://localhost:8080/",
     "height": 626
    },
    "executionInfo": {
     "elapsed": 2059,
     "status": "ok",
     "timestamp": 1730944185660,
     "user": {
      "displayName": "MAURICIO ALCANTAR",
      "userId": "16480899961778612666"
     },
     "user_tz": 480
    },
    "id": "UFAPSgq0uD3k",
    "outputId": "332dec81-b187-48ba-af97-7f55e7896123"
   },
   "outputs": [],
   "source": [
    "# Graph only for illustration purposes\n",
    "fig1, ax1 = plt.subplots(figsize=(9., 6.))\n",
    "ax1.set(ylim=(0, 5000))\n",
    "\n",
    "im1 = ax1.imshow(abs_Sx, origin='lower', aspect='auto',\n",
    "                 extent=extents, cmap='viridis')\n",
    "ax1.plot(peaks_t * x_scale, peaks_f * y_scale, 'r.')\n",
    "ax1.plot(peaks_t * x_scale, IF, 'y.')\n",
    "\n",
    "fig1.colorbar(im1)\n",
    "fig1.tight_layout()\n",
    "\n",
    "plt.show()"
   ]
  },
  {
   "cell_type": "markdown",
   "metadata": {
    "id": "p-FCrZRPXqaH"
   },
   "source": [
    "## **Step 2.** Salience Function Computation"
   ]
  },
  {
   "cell_type": "code",
   "execution_count": null,
   "metadata": {
    "executionInfo": {
     "elapsed": 376,
     "status": "ok",
     "timestamp": 1730944195340,
     "user": {
      "displayName": "MAURICIO ALCANTAR",
      "userId": "16480899961778612666"
     },
     "user_tz": 480
    },
    "id": "d-VRW4AtHfsI"
   },
   "outputs": [],
   "source": [
    "# Calculate number of peaks and highest peak per frame\n",
    "\n",
    "peaks_per_f = np.zeros(Sx.shape[1], dtype=int)\n",
    "max_peak = np.zeros(peaks_per_f.size, dtype=int)\n",
    "\n",
    "for i in range(peaks_t.size):\n",
    "  peaks_per_f[peaks_t[i]] += 1\n",
    "  if IF[i] > max_peak[peaks_t[i]]:\n",
    "    max_peak[peaks_t[i]] = i"
   ]
  },
  {
   "cell_type": "code",
   "execution_count": null,
   "metadata": {
    "executionInfo": {
     "elapsed": 269,
     "status": "ok",
     "timestamp": 1730944196380,
     "user": {
      "displayName": "MAURICIO ALCANTAR",
      "userId": "16480899961778612666"
     },
     "user_tz": 480
    },
    "id": "mFTiKHxpS3J-"
   },
   "outputs": [],
   "source": [
    "# Useful function definitions\n",
    "\n",
    "# Bin: Computes (discrete) bin number of given frequency\n",
    "def Bin(fi):\n",
    "  return np.floor(120*np.log2(fi/55) + 1)\n",
    "\n",
    "# Threshold: Whether or not a given peak is loud enough\n",
    "# compared to highest peak in its frame\n",
    "def Threshold(a, t, g):\n",
    "  if np.log10(abs(Ai[max_peak[t]] / a)) < g:\n",
    "    return 1\n",
    "  else: return 0\n",
    "\n",
    "# Weight: Assigns (cos^2) weight to bin if the given peak is a\n",
    "# multiple of the bin's center frequency (harmonic)\n",
    "def Weight(a, b, h, fi):\n",
    "  d = abs(Bin(fi/h) - b)/10\n",
    "  if d <= 1:\n",
    "    return (a**(h-1)) * np.cos(np.pi*d/2)**2\n",
    "  else: return 0"
   ]
  },
  {
   "cell_type": "code",
   "execution_count": null,
   "metadata": {
    "executionInfo": {
     "elapsed": 230,
     "status": "ok",
     "timestamp": 1730944198675,
     "user": {
      "displayName": "MAURICIO ALCANTAR",
      "userId": "16480899961778612666"
     },
     "user_tz": 480
    },
    "id": "zKLVDIZhbELc"
   },
   "outputs": [],
   "source": [
    "# Constant values given by [2]\n",
    "alpha = 0.8\n",
    "beta = 1\n",
    "gamma = 2\n",
    "Nh = 20\n",
    "\n",
    "# Useful peak indexing per frame\n",
    "peaks_by_t = np.zeros((peaks_t.size, 2), dtype=int)\n",
    "for i in range(peaks_t.size):\n",
    "  peaks_by_t[i] = [peaks_t[i], i]\n",
    "peaks_by_t = peaks_by_t[np.argsort(peaks_by_t[:,0])]"
   ]
  },
  {
   "cell_type": "code",
   "execution_count": null,
   "metadata": {
    "executionInfo": {
     "elapsed": 951006,
     "status": "ok",
     "timestamp": 1730945175015,
     "user": {
      "displayName": "MAURICIO ALCANTAR",
      "userId": "16480899961778612666"
     },
     "user_tz": 480
    },
    "id": "Jau8m7xyRwxB"
   },
   "outputs": [],
   "source": [
    "# Computation of every bin's salience per frame\n",
    "\n",
    "Sb = np.zeros((600, Sx.shape[1]))\n",
    "\n",
    "index = 0\n",
    "for l in range(Sb.shape[1]):\n",
    "  for b in range(Sb.shape[0]):\n",
    "    for n in range(peaks_per_f[l]):\n",
    "      idx = index + n\n",
    "      w = 0\n",
    "      ea = Threshold(Ai[peaks_by_t[idx,1]], l, gamma)\n",
    "      if ea == 0: continue\n",
    "      ab = abs(Ai[peaks_by_t[idx,1]])**beta\n",
    "      for h in range(Nh):\n",
    "        w += Weight(alpha, b+1, h+1, IF[peaks_by_t[idx,1]])\n",
    "      Sb[b, l] += w * ab\n",
    "  index += peaks_per_f[l]\n",
    "\n",
    "#for i in range(Sb.shape[0]):\n",
    "  #for j in range(Sb.shape[1]):\n",
    "    #if Sb[i, j] < 0.01: Sb[i, j] = 0"
   ]
  },
  {
   "cell_type": "code",
   "execution_count": null,
   "metadata": {
    "colab": {
     "base_uri": "https://localhost:8080/",
     "height": 626
    },
    "executionInfo": {
     "elapsed": 3724,
     "status": "ok",
     "timestamp": 1730948097436,
     "user": {
      "displayName": "MAURICIO ALCANTAR",
      "userId": "16480899961778612666"
     },
     "user_tz": 480
    },
    "id": "Ta2PAZwxv-Ia",
    "outputId": "2c4a3c11-72b7-4fca-c2fb-ba774b844e5e"
   },
   "outputs": [],
   "source": [
    "# Figure only for illustration purposes\n",
    "fig1, ax1 = plt.subplots(figsize=(9., 6.))\n",
    "\n",
    "Sb2 = np.zeros(Sb.shape)\n",
    "for i in range(Sb2.shape[0]):\n",
    "  for j in range(Sb2.shape[1]):\n",
    "    if Sb[i,j] != 0: Sb2[i,j] = np.log10(Sb[i,j])\n",
    "    else: Sb2[i,j] = -2\n",
    "    if Sb2[i,j] < -2: Sb2[i,j] = 0\n",
    "\n",
    "new_extents = (extents[0], extents[1], extents[2], 600.0)\n",
    "im1 = ax1.imshow(Sb2, origin='lower', aspect='auto',\n",
    "                 extent=new_extents, cmap='viridis')\n",
    "\n",
    "fig1.colorbar(im1)\n",
    "fig1.tight_layout()\n",
    "\n",
    "plt.show()"
   ]
  },
  {
   "cell_type": "code",
   "execution_count": null,
   "metadata": {
    "executionInfo": {
     "elapsed": 474,
     "status": "ok",
     "timestamp": 1730948105270,
     "user": {
      "displayName": "MAURICIO ALCANTAR",
      "userId": "16480899961778612666"
     },
     "user_tz": 480
    },
    "id": "XXcoAwoEhUOd"
   },
   "outputs": [],
   "source": [
    "# Identify local maxima of each time frame\n",
    "\n",
    "Speaks = sig.argrelmax(Sb, axis=0, order=5)\n",
    "Speaks_arr = np.array([Speaks[0], Speaks[1]]).T\n",
    "Speaks_arr = np.copy(Speaks_arr[np.argsort(Speaks_arr[:,1])])\n",
    "pcp2 = max(abs(Sb[Speaks_arr[:,0], Speaks_arr[:,1]])) / 10\n",
    "\n",
    "Speak_ids = np.zeros(0, dtype=int)\n",
    "for i in range(Speaks_arr.shape[0]):\n",
    "  if abs(Sb[Speaks_arr[i,0], Speaks_arr[i,1]]) > pcp2:\n",
    "    Speak_ids = np.append(Speak_ids, i)\n",
    "\n",
    "Speaks_b = Speaks_arr[Speak_ids, 0]\n",
    "Speaks_t = Speaks_arr[Speak_ids, 1]"
   ]
  },
  {
   "cell_type": "code",
   "execution_count": null,
   "metadata": {
    "colab": {
     "base_uri": "https://localhost:8080/",
     "height": 626
    },
    "executionInfo": {
     "elapsed": 2177,
     "status": "ok",
     "timestamp": 1730948109089,
     "user": {
      "displayName": "MAURICIO ALCANTAR",
      "userId": "16480899961778612666"
     },
     "user_tz": 480
    },
    "id": "OBUyPiXAVzne",
    "outputId": "91cee72f-24e0-4f12-8018-f7a625c390ea"
   },
   "outputs": [],
   "source": [
    "# Graph only for illustration purposes\n",
    "fig1, ax1 = plt.subplots(figsize=(9., 6.))\n",
    "\n",
    "im1 = ax1.imshow(Sb, origin='lower', aspect='auto',\n",
    "                 extent=new_extents, cmap='viridis')\n",
    "ax1.plot(Speaks_t * x_scale, Speaks_b, 'y.')\n",
    "\n",
    "fig1.colorbar(im1)\n",
    "fig1.tight_layout()\n",
    "\n",
    "plt.show()"
   ]
  },
  {
   "cell_type": "markdown",
   "metadata": {
    "id": "9pSeZ-cubXgW"
   },
   "source": [
    "## **Step 3.** Peak Streaming"
   ]
  },
  {
   "cell_type": "code",
   "execution_count": null,
   "metadata": {
    "executionInfo": {
     "elapsed": 412,
     "status": "ok",
     "timestamp": 1730951073234,
     "user": {
      "displayName": "MAURICIO ALCANTAR",
      "userId": "16480899961778612666"
     },
     "user_tz": 480
    },
    "id": "j4j7ev0ymDn-"
   },
   "outputs": [],
   "source": [
    "# Calculate highest salience peaks per frame\n",
    "# and filter low salience peaks\n",
    "\n",
    "peak_Sb = Sb[Speaks_b, Speaks_t]\n",
    "max_Speak = np.zeros(Sb.shape[1], dtype=int)\n",
    "S_minus = np.zeros(0, dtype=int)\n",
    "\n",
    "for i in range(peak_Sb.size):\n",
    "  if peak_Sb[i] > peak_Sb[max_Speak[Speaks_t[i]]]:\n",
    "    max_Speak[Speaks_t[i]] = i\n",
    "\n",
    "for i in range(peak_Sb.size):\n",
    "  max_id = max_Speak[Speaks_t[i]]\n",
    "  if peak_Sb[i] < (peak_Sb[max_id] * 0.9):\n",
    "    S_minus = np.append(S_minus, i)"
   ]
  },
  {
   "cell_type": "code",
   "execution_count": null,
   "metadata": {
    "executionInfo": {
     "elapsed": 231,
     "status": "ok",
     "timestamp": 1730951074758,
     "user": {
      "displayName": "MAURICIO ALCANTAR",
      "userId": "16480899961778612666"
     },
     "user_tz": 480
    },
    "id": "IdC0AiyocyL2"
   },
   "outputs": [],
   "source": [
    "# Filter remaining peaks based on general frame salience\n",
    "\n",
    "boolarr = np.ones(peak_Sb.size, dtype=bool)\n",
    "for i in S_minus: boolarr[i] = False\n",
    "\n",
    "N = peak_Sb.size - S_minus.size\n",
    "s_mean = np.average(peak_Sb[boolarr])\n",
    "s_dev = np.std(peak_Sb[boolarr])\n",
    "min_S = s_mean - 0.9*s_dev\n",
    "\n",
    "for a in range(peak_Sb.size):\n",
    "  if boolarr[a] == 1 and peak_Sb[a] < min_S:\n",
    "    S_minus = np.append(S_minus, a)\n",
    "    boolarr[a] = 0"
   ]
  },
  {
   "cell_type": "code",
   "execution_count": null,
   "metadata": {
    "colab": {
     "base_uri": "https://localhost:8080/",
     "height": 626
    },
    "executionInfo": {
     "elapsed": 1383,
     "status": "ok",
     "timestamp": 1730951570472,
     "user": {
      "displayName": "MAURICIO ALCANTAR",
      "userId": "16480899961778612666"
     },
     "user_tz": 480
    },
    "id": "8soBgGsHf9Px",
    "outputId": "09e7d1e6-00a2-4697-8fa8-18e97ece3bc8"
   },
   "outputs": [],
   "source": [
    "# Graph only for illustration purposes\n",
    "fig1, ax1 = plt.subplots(figsize=(9., 6.))\n",
    "\n",
    "im1 = ax1.imshow(Sb, origin='lower', aspect='auto',\n",
    "                 extent=new_extents, cmap='viridis')\n",
    "ax1.plot(Speaks_t[boolarr] * x_scale, Speaks_b[boolarr], 'y.')\n",
    "\n",
    "fig1.colorbar(im1)\n",
    "fig1.tight_layout()\n",
    "\n",
    "plt.show()"
   ]
  },
  {
   "cell_type": "code",
   "execution_count": null,
   "metadata": {
    "colab": {
     "base_uri": "https://localhost:8080/"
    },
    "executionInfo": {
     "elapsed": 1502,
     "status": "ok",
     "timestamp": 1730953035673,
     "user": {
      "displayName": "MAURICIO ALCANTAR",
      "userId": "16480899961778612666"
     },
     "user_tz": 480
    },
    "id": "9hbNftNzSIv_",
    "outputId": "cb8cb511-aa56-46e5-c112-96192532081a"
   },
   "outputs": [],
   "source": [
    "S_plus = np.array(np.where(boolarr == 1))\n",
    "while S_plus.size:\n",
    "  it = np.argmax(peak_Sb[S_plus])\n",
    "  S_plus = np.delete(S_plus, -1)"
   ]
  },
  {
   "cell_type": "markdown",
   "metadata": {
    "id": "6XEwT_WAl5sS"
   },
   "source": [
    "## **Step 4.** Pitch Contour Characterization"
   ]
  },
  {
   "cell_type": "code",
   "execution_count": null,
   "metadata": {
    "id": "qSBm8lqjmMKU"
   },
   "outputs": [],
   "source": []
  },
  {
   "cell_type": "markdown",
   "metadata": {
    "id": "aComwXzSmMuO"
   },
   "source": [
    "## **Step 5.** Melody Selection"
   ]
  },
  {
   "cell_type": "code",
   "execution_count": null,
   "metadata": {
    "id": "xNZuMPEKkHhR"
   },
   "outputs": [],
   "source": [
    "#with open(\"/content/sample_data/Sb.txt\", \"w\") as txt:\n",
    "#  for line in Sb:\n",
    "#    for num in line:\n",
    "#      txt.write(str(num) + \",\")\n",
    "#    txt.write(\"\\n\")"
   ]
  },
  {
   "cell_type": "code",
   "execution_count": null,
   "metadata": {
    "id": "4L1fpBIqWV3I"
   },
   "outputs": [],
   "source": [
    "#wav.write(\"/content/sample_data/newsong.wav\", sr, eq_data)"
   ]
  },
  {
   "cell_type": "markdown",
   "metadata": {
    "id": "m0Im9iYA65Io"
   },
   "source": [
    "## References\n",
    "\n",
    "[1] https://replaygain.hydrogenaud.io/equal_loudness.html \\\\\n",
    "[2] https://www.justinsalamon.com/uploads/4/3/9/4/4394963/salamongomezmelodytaslp2012.pdf \\\\\n",
    "[3] https://www.ee.columbia.edu/~dpwe/papers/Wang03-shazam.pdf \\\\\n",
    "[4] https://dafx.de/paper-archive/2006/papers/p_247.pdf \\\\\n",
    "[5] https://www.db-thueringen.de/servlets/MCRFileNodeServlet/dbt_derivate_00038847/ilm1-2017000136.pdf"
   ]
  }
 ],
 "metadata": {
  "colab": {
   "authorship_tag": "ABX9TyPiQcmNI4kuAzuBSyXE+3YN",
   "provenance": []
  },
  "kernelspec": {
   "display_name": "Python 3 (ipykernel)",
   "language": "python",
   "name": "python3"
  },
  "language_info": {
   "codemirror_mode": {
    "name": "ipython",
    "version": 3
   },
   "file_extension": ".py",
   "mimetype": "text/x-python",
   "name": "python",
   "nbconvert_exporter": "python",
   "pygments_lexer": "ipython3",
   "version": "3.9.20"
  }
 },
 "nbformat": 4,
 "nbformat_minor": 4
}
