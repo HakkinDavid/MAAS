{
 "cells": [
  {
   "cell_type": "markdown",
   "metadata": {},
   "source": [
    "# **MAAS User Interface**\n",
    "\n",
    "Este notebook detalla la interfaz a utilizar para ejecutar MAAS. Funciona en Google Colab y en JupyterLab.\n",
    "\n",
    "### JupyterLab:\n",
    "- Se preguntará si gusta grabar desde el micrófono, de no ser así se solicitará el nombre de un archivo WAV a 44100 Hz, colocado en /samples/\n",
    "- Se preguntará si gusta guardar el CSV generado con MAAS_filter() en /database/\n",
    "- Funciona out of the box, siempre que tenga toda la paquetería requerida (numpy, IPython, soundfile, scipy, matplotlib, sounddevice, ipython-autotime)\n",
    "\n",
    "### Colab:\n",
    "- Puede utilizar el micrófono y grabar (si la sesión es nueva, puede que requiera de dos intentos por cuestiones de permisos)\n",
    "- No se guardará ningún CSV\n",
    "- Debe cargar la base de datos a la raíz de la sesión (\\[/content\\]/*.csv) para realizar la comparación\n",
    "- Debe cargar el módulo MAAS_Filters.ipynb a la raíz de la sesión (\\[/content\\]/MAAS_Filters.ipynb), que se incluye en el GitHub"
   ]
  },
  {
   "cell_type": "markdown",
   "metadata": {
    "id": "5BgHy9Vom0Lo"
   },
   "source": [
    "## Autores\n",
    "- Diego Casta - 35705\n",
    "- Mauricio Alcántar - 35860\n",
    "- David Santana - 35967"
   ]
  },
  {
   "cell_type": "markdown",
   "metadata": {
    "id": "D8QRatuMmro3"
   },
   "source": [
    "## **Librerías**"
   ]
  },
  {
   "cell_type": "code",
   "execution_count": null,
   "metadata": {
    "colab": {
     "base_uri": "https://localhost:8080/"
    },
    "id": "3XS6G4I_-kQb",
    "outputId": "7cc0aa16-609f-417b-f98f-b338d3dc2e1e"
   },
   "outputs": [],
   "source": [
    "if IN_COLAB:\n",
    "  !pip install ipython-autotime"
   ]
  },
  {
   "cell_type": "code",
   "execution_count": null,
   "metadata": {
    "colab": {
     "base_uri": "https://localhost:8080/"
    },
    "id": "BFgKW1v5mwoc",
    "outputId": "d28477b7-ba39-4b24-ee7c-196a3f13e8ff"
   },
   "outputs": [],
   "source": [
    "import numpy as np\n",
    "from io import BytesIO\n",
    "from base64 import b64decode\n",
    "try:\n",
    "    from google.colab import output\n",
    "except ImportError:\n",
    "    pass\n",
    "from IPython.display import Javascript\n",
    "import IPython.display as ipd\n",
    "import io\n",
    "import soundfile as sf\n",
    "from scipy import signal as sig\n",
    "from scipy.io import wavfile as wav\n",
    "from os import listdir\n",
    "import sounddevice as sd\n",
    "import matplotlib.pyplot as plt\n",
    "import math"
   ]
  },
  {
   "cell_type": "code",
   "execution_count": null,
   "metadata": {
    "colab": {
     "base_uri": "https://localhost:8080/"
    },
    "id": "LBBVFu2SL6wd",
    "outputId": "9f6c196a-c603-43ca-f175-e0c93f015f75"
   },
   "outputs": [],
   "source": [
    "IN_COLAB = None\n",
    "if 'google.colab' in str(get_ipython()):\n",
    "  IN_COLAB = True\n",
    "  print('Ejecutándose en Colab')\n",
    "else:\n",
    "  IN_COLAB = False\n",
    "  print('Ejecutándose localmente')"
   ]
  },
  {
   "cell_type": "code",
   "execution_count": null,
   "metadata": {
    "colab": {
     "base_uri": "https://localhost:8080/"
    },
    "id": "NGbYXP5r-qCZ",
    "outputId": "acfb764f-53d1-4f81-ead4-f23909ee5194"
   },
   "outputs": [],
   "source": [
    "%load_ext autotime"
   ]
  },
  {
   "cell_type": "markdown",
   "metadata": {
    "id": "30XGzAXQl70L"
   },
   "source": [
    "## **Lectura de archivo**"
   ]
  },
  {
   "cell_type": "code",
   "execution_count": null,
   "metadata": {
    "colab": {
     "base_uri": "https://localhost:8080/"
    },
    "id": "KncS4rzMn-fH",
    "outputId": "e2016d4c-9c82-4890-90e0-a45fdf6d1a75"
   },
   "outputs": [],
   "source": [
    "RECORD = None if not IN_COLAB else \"\"\"\n",
    "const sleep  = time => new Promise(resolve => setTimeout(resolve, time));\n",
    "\n",
    "const b2text = blob => new Promise(resolve => {\n",
    "  const reader = new FileReader();\n",
    "  reader.onloadend = e => resolve(e.srcElement.result);\n",
    "  reader.readAsDataURL(blob);\n",
    "});\n",
    "\n",
    "var record = time => new Promise(async resolve => {\n",
    "  const stream = await navigator.mediaDevices.getUserMedia({ audio: true });\n",
    "  const audioContext = new AudioContext({ sampleRate: 44100 });\n",
    "  const source = audioContext.createMediaStreamSource(stream);\n",
    "  const recorder = new MediaRecorder(stream);\n",
    "  let chunks = [];\n",
    "\n",
    "  recorder.ondataavailable = e => chunks.push(e.data);\n",
    "  alert(\"Presiona 'aceptar' para empezar la grabación.\");\n",
    "  recorder.start();\n",
    "  await sleep(time);\n",
    "\n",
    "  recorder.onstop = async () => {\n",
    "    const blob = new Blob(chunks, { type: 'audio/ogg; codecs=opus' });\n",
    "    const arrayBuffer = await blob.arrayBuffer();\n",
    "    const audioBuffer = await audioContext.decodeAudioData(arrayBuffer);\n",
    "\n",
    "    // Convert to WAV format\n",
    "    const wavBlob = encodeWAV(audioBuffer, 44100, 16);\n",
    "    const wavText = await b2text(wavBlob);\n",
    "    resolve(wavText);\n",
    "\n",
    "    // Clean up\n",
    "    stream.getTracks().forEach(track => track.stop());\n",
    "    audioContext.close();\n",
    "  };\n",
    "\n",
    "  recorder.stop();\n",
    "});\n",
    "\n",
    "// WAV encoding function\n",
    "function encodeWAV(audioBuffer, sampleRate, bitDepth) {\n",
    "  const numChannels = audioBuffer.numberOfChannels;\n",
    "  const length = audioBuffer.length * numChannels * (bitDepth / 8);\n",
    "  const buffer = new ArrayBuffer(44 + length);\n",
    "  const view = new DataView(buffer);\n",
    "\n",
    "  // WAV header\n",
    "  writeString(view, 0, 'RIFF');\n",
    "  view.setUint32(4, 36 + length, true);\n",
    "  writeString(view, 8, 'WAVE');\n",
    "  writeString(view, 12, 'fmt ');\n",
    "  view.setUint32(16, 16, true);  // Format chunk length\n",
    "  view.setUint16(20, 1, true);   // PCM format\n",
    "  view.setUint16(22, numChannels, true);\n",
    "  view.setUint32(24, sampleRate, true);\n",
    "  view.setUint32(28, sampleRate * numChannels * (bitDepth / 8), true); // Byte rate\n",
    "  view.setUint16(32, numChannels * (bitDepth / 8), true); // Block align\n",
    "  view.setUint16(34, bitDepth, true); // Bits per sample\n",
    "  writeString(view, 36, 'data');\n",
    "  view.setUint32(40, length, true);\n",
    "\n",
    "  // Write PCM samples\n",
    "  let offset = 44;\n",
    "  for (let channel = 0; channel < numChannels; channel++) {\n",
    "    const data = audioBuffer.getChannelData(channel);\n",
    "    for (let i = 0; i < data.length; i++, offset += 2) {\n",
    "      const sample = Math.max(-1, Math.min(1, data[i]));\n",
    "      view.setInt16(offset, sample < 0 ? sample * 0x8000 : sample * 0x7FFF, true);\n",
    "    }\n",
    "  }\n",
    "\n",
    "  return new Blob([view], { type: 'audio/wav' });\n",
    "}\n",
    "\n",
    "function writeString(view, offset, string) {\n",
    "  for (let i = 0; i < string.length; i++) {\n",
    "    view.setUint8(offset + i, string.charCodeAt(i));\n",
    "  }\n",
    "}\n",
    "\"\"\"\n",
    "\n",
    "def record_lab(duration=5, sample_rate=44100, channels=1):\n",
    "    print(\"Grabando...\")\n",
    "    recording = sd.rec(int(duration * sample_rate), samplerate=sample_rate, channels=channels, dtype='int16')\n",
    "    sd.wait()\n",
    "    print(\"Grabación terminada.\")\n",
    "    return recording, sample_rate\n",
    "\n",
    "def record(sec=10):\n",
    "  if (IN_COLAB):\n",
    "    output.eval_js(RECORD)\n",
    "    sec += 1\n",
    "    s = output.eval_js('record(%d)' % (sec*1000))\n",
    "    print(\"Grabación terminada\")\n",
    "    return io.BytesIO(b64decode(s.split(',')[1]))\n",
    "  else:\n",
    "    recording, sample_rate = record_lab(duration=sec)\n",
    "    byte_io = io.BytesIO()\n",
    "    wav.write(byte_io, sample_rate, recording)\n",
    "    byte_io.seek(0)\n",
    "    return byte_io"
   ]
  },
  {
   "cell_type": "code",
   "execution_count": null,
   "metadata": {},
   "outputs": [],
   "source": [
    "FILENAME = '' if IN_COLAB else input(\"Presiona ENTER para grabar o introduce el nombre de un archivo WAV colocado en /samples/\")"
   ]
  },
  {
   "cell_type": "code",
   "execution_count": null,
   "metadata": {
    "colab": {
     "base_uri": "https://localhost:8080/",
     "height": 52
    },
    "id": "Hbi3UlfOoB-y",
    "outputId": "6c98cd67-743c-41a0-f3fa-9d2aa66a2a6e"
   },
   "outputs": [],
   "source": [
    "audio = record(10) if FILENAME == '' else open('/samples/' + FILENAME, 'rb')"
   ]
  },
  {
   "cell_type": "code",
   "execution_count": null,
   "metadata": {
    "colab": {
     "base_uri": "https://localhost:8080/",
     "height": 93
    },
    "id": "kU81dzvqzjJf",
    "outputId": "d2d8471a-7710-4fca-8e33-2eb0d639725b"
   },
   "outputs": [],
   "source": [
    "ipd.display(ipd.Audio(audio.read()))"
   ]
  },
  {
   "cell_type": "code",
   "execution_count": null,
   "metadata": {
    "colab": {
     "base_uri": "https://localhost:8080/"
    },
    "id": "GQxflJP38rt_",
    "outputId": "b540dd98-7e3b-422f-ecc2-fef315b88aac"
   },
   "outputs": [],
   "source": [
    "audio.seek(0)\n",
    "data, sr = sf.read(audio)\n",
    "if (data.ndim == 2): data = data.mean(axis=1).astype(data.dtype)\n",
    "print(\"Sample rate is {0}Hz\".format(sr))"
   ]
  },
  {
   "cell_type": "code",
   "execution_count": null,
   "metadata": {
    "colab": {
     "base_uri": "https://localhost:8080/"
    },
    "id": "9eFG2ZVUJCmU",
    "outputId": "3a30ce6b-3dbc-4078-837c-218a4e71120b"
   },
   "outputs": [],
   "source": [
    "if (IN_COLAB):\n",
    "  %run /content/MAAS_Filters.ipynb\n",
    "else:\n",
    "  %run ./MAAS_Filters.ipynb"
   ]
  },
  {
   "cell_type": "code",
   "execution_count": null,
   "metadata": {},
   "outputs": [],
   "source": [
    "SHOULD_SAVE = False if IN_COLAB else input('¿Guardar CSV? [y/N]').lower() == 'y'"
   ]
  },
  {
   "cell_type": "code",
   "execution_count": null,
   "metadata": {
    "colab": {
     "base_uri": "https://localhost:8080/",
     "height": 1000
    },
    "id": "i97ofDC-Jl0u",
    "outputId": "6625aab2-1f09-4c34-9cee-3d9f017f3464"
   },
   "outputs": [],
   "source": [
    "filtered = MAAS_filter(data, sr, None if (not SHOULD_SAVE) else './database/' + audio + '.csv')"
   ]
  },
  {
   "cell_type": "code",
   "execution_count": null,
   "metadata": {
    "colab": {
     "base_uri": "https://localhost:8080/"
    },
    "id": "JDX_4r7_KUUD",
    "outputId": "971f2629-2970-45b8-b0bc-ed2e53fe3a77"
   },
   "outputs": [],
   "source": [
    "filtered"
   ]
  },
  {
   "cell_type": "code",
   "execution_count": null,
   "metadata": {
    "colab": {
     "base_uri": "https://localhost:8080/"
    },
    "id": "gMPY-ItislTB",
    "outputId": "fa9282d3-2ae2-45c4-c077-c41c40559c65"
   },
   "outputs": [],
   "source": [
    "def LinearRegressionMAAS(timepairsRec,timepairsTest,details):\n",
    "  timepairsRec = np.array(timepairsRec)\n",
    "  timepairsTest = np.array(timepairsTest)\n",
    "  n = len(timepairsRec)\n",
    "  xi = timepairsRec\n",
    "  yi = timepairsTest\n",
    "  xi2=xi**2\n",
    "  yi2=yi**2\n",
    "  xiyi=xi*yi\n",
    "  table=np.transpose([xi,yi,xi2,yi2,xiyi])\n",
    "  xiS=np.sum(xi)\n",
    "  yiS=np.sum(yi)\n",
    "  xi2S=np.sum(xi2)\n",
    "  yi2S=np.sum(yi2)\n",
    "  xiyiS=np.sum(xiyi)\n",
    "  sumApp=([xiS,yiS,xi2S,np.around(yi2S,decimals=2),xiyiS])  # Creacion de la tabla de sumatorias\n",
    "\n",
    "  # Paso 1. Calculo de a1\n",
    "  a1=(n*(xiyiS)-(xiS*yiS))/(n*xi2S-(xiS**2))\n",
    "  xProm=xiS/n\n",
    "  yProm=yiS/n\n",
    "\n",
    "  # Paso 2. Calculo de a0\n",
    "  a0=yProm-(a1*xProm)\n",
    "\n",
    "  # Coeficiente de correlacion\n",
    "  r=(n*xiyiS - (xiS*yiS))/((math.sqrt(n*(xi2S)-(xiS**2)))*(math.sqrt(n*(yi2S)-(yiS**2))))\n",
    "\n",
    "  # Desviacion estandar\n",
    "  sig=math.sqrt(((n*(yi2S))-(yiS**2))/(n*(n-1)))\n",
    "\n",
    "  # Graficacion\n",
    "  yG= a1*xi + a0\n",
    "  plt.plot(xi,yG,'bo-')\n",
    "  plt.plot(xi,yi,'ko')\n",
    "  plt.grid()\n",
    "  plt.title(\"Window\")\n",
    "  plt.xticks(xi)\n",
    "  plt.show()\n",
    "  print(\"r =\",np.around(r,decimals=6),\"\\nr^2 =\",np.around(r**2,decimals=6))\n",
    "  if(details):\n",
    "    print(\"a1 =\",np.around(a1,decimals=6))\n",
    "    print(\"a0 =\",np.around(a0,decimals=6))\n",
    "    print(\"y =\",np.around(a1,decimals=4),\"x +\",np.around(a0,decimals=4))\n",
    "    print(\"Desviación estándar:\",np.around(sig,decimals=4))\n",
    "    print()\n",
    "  return (r)\n"
   ]
  },
  {
   "cell_type": "code",
   "execution_count": null,
   "metadata": {
    "colab": {
     "base_uri": "https://localhost:8080/"
    },
    "id": "kF4FV0d1tGQ3",
    "outputId": "645465ca-b6ba-4c0c-ea31-f8e2fd600d4a"
   },
   "outputs": [],
   "source": [
    "def SlidingWindowRegression(recording_song,test_song,step_size, silent = True):\n",
    "\n",
    "  n = len(recording_song)\n",
    "  m = test_song.shape[1]\n",
    "  r_arr = []\n",
    "  count = 0\n",
    "  for i in range(0, m-n+1, step_size):\n",
    "   current = test_song[:,i:i+n]\n",
    "   timepairsRec = []\n",
    "   timepairsTest = []\n",
    "   for j in range(current.shape[1]):\n",
    "\n",
    "      if(abs(current[1,j] - recording_song[1][j]) < 5):\n",
    "\n",
    "        timepairsRec.append(recording_song[0][j])\n",
    "        timepairsTest.append(current[0,j])\n",
    "\n",
    "   count += 1\n",
    "\n",
    "   if len(timepairsRec) > 1 and len(timepairsTest) > 1:\n",
    "     r = (LinearRegressionMAAS(timepairsRec,timepairsTest,False))**2\n",
    "     r_arr = np.append(r_arr,r)\n",
    "     if (not silent): print(f'Window {count} done successfully.')\n",
    "\n",
    "   else:\n",
    "     if (not silent): print(f'Window {count} done, no pairs found.')\n",
    "\n",
    "  if (np.any(r_arr)):\n",
    "    return(np.max(r_arr))\n",
    "\n",
    "  else:\n",
    "    if (not silent): print(\"Zero matches.\\n\")\n",
    "\n",
    "    return(0)"
   ]
  },
  {
   "cell_type": "code",
   "execution_count": null,
   "metadata": {},
   "outputs": [],
   "source": [
    "def get_database():\n",
    "    filenames = listdir(\"/content/\" if IN_COLAB else \"./database/\")\n",
    "    return [ filename for filename in filenames if filename.endswith( \".csv\" ) ]"
   ]
  },
  {
   "cell_type": "code",
   "execution_count": null,
   "metadata": {
    "colab": {
     "base_uri": "https://localhost:8080/"
    },
    "id": "ZTvSeXystNm9",
    "outputId": "dcd3f2f1-34e6-409f-bb60-56be62bcb4bf"
   },
   "outputs": [],
   "source": [
    "def compare(filtered_song, db_obj, silent = True):\n",
    "    test_song = np.transpose(np.genfromtxt((\"/content/\" if IN_COLAB else \"./database/\") + db_obj, delimiter=\",\", skip_header=1))\n",
    "    \n",
    "    #test_song is an np array\n",
    "    #filtered is a python list\n",
    "    \n",
    "    n = len(filtered_song[1])\n",
    "    \n",
    "    # SlidingWindowRegression already squares 'r'\n",
    "    r2 = SlidingWindowRegression(filtered_song,test_song,75,silent)\n",
    "    \n",
    "    if (r2):\n",
    "      if (not silent): print(\"Best R^2:\", r2)\n",
    "    else:\n",
    "      if (not silent): print(f\"Zero correlation found for {db_obj}.\")\n",
    "    return r2"
   ]
  },
  {
   "cell_type": "code",
   "execution_count": null,
   "metadata": {},
   "outputs": [],
   "source": [
    "database = get_database()\n",
    "results = {}\n",
    "for SONG in database:\n",
    "    results[SONG] = compare(filtered, SONG)\n",
    "\n",
    "print(f\"La canción identificada fue {max(results, key=results.get)}\")"
   ]
  }
 ],
 "metadata": {
  "colab": {
   "provenance": []
  },
  "kernelspec": {
   "display_name": "Python 3 (ipykernel)",
   "language": "python",
   "name": "python3"
  },
  "language_info": {
   "codemirror_mode": {
    "name": "ipython",
    "version": 3
   },
   "file_extension": ".py",
   "mimetype": "text/x-python",
   "name": "python",
   "nbconvert_exporter": "python",
   "pygments_lexer": "ipython3",
   "version": "3.12.7"
  }
 },
 "nbformat": 4,
 "nbformat_minor": 4
}
