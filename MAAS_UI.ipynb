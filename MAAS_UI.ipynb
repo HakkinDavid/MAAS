{
 "cells": [
  {
   "cell_type": "markdown",
   "metadata": {
    "id": "5BgHy9Vom0Lo"
   },
   "source": [
    "- Diego Casta - 35705\n",
    "- Mauricio Alcántar - 35860\n",
    "- David Santana - 35967"
   ]
  },
  {
   "cell_type": "markdown",
   "metadata": {
    "id": "eTFxVGf1ngHd"
   },
   "source": [
    "## **To-Do List**\n",
    "- Leer Archivo .csv\n",
    "- Base de Datos\n",
    "- Agarrar el resultado, ponerlo en la BdD y catalogarlo como canción para hacer la búsqueda\n",
    "- Contrastar grabación con records (regresión lineal)"
   ]
  },
  {
   "cell_type": "markdown",
   "metadata": {
    "id": "D8QRatuMmro3"
   },
   "source": [
    "## **Librerías**"
   ]
  },
  {
   "cell_type": "code",
   "execution_count": 1,
   "metadata": {
    "id": "BFgKW1v5mwoc"
   },
   "outputs": [],
   "source": [
    "import numpy as np\n",
    "from io import BytesIO\n",
    "from base64 import b64decode\n",
    "try:\n",
    "    from google.colab import output\n",
    "except ImportError:\n",
    "    pass\n",
    "from IPython.display import Javascript\n",
    "import IPython.display as ipd\n",
    "import io\n",
    "import soundfile as sf\n",
    "from scipy import signal as sig\n",
    "from scipy.io import wavfile as wav"
   ]
  },
  {
   "cell_type": "code",
   "execution_count": 2,
   "metadata": {
    "colab": {
     "base_uri": "https://localhost:8080/"
    },
    "id": "LBBVFu2SL6wd",
    "outputId": "b33f50f7-88ad-4856-a1ed-0cc09ba3220b"
   },
   "outputs": [
    {
     "name": "stdout",
     "output_type": "stream",
     "text": [
      "Ejecutándose localmente\n"
     ]
    }
   ],
   "source": [
    "IN_COLAB = None\n",
    "if 'google.colab' in str(get_ipython()):\n",
    "  IN_COLAB = True\n",
    "  print('Ejecutándose en Colab')\n",
    "else:\n",
    "  IN_COLAB = False\n",
    "  print('Ejecutándose localmente')"
   ]
  },
  {
   "cell_type": "code",
   "execution_count": 3,
   "metadata": {},
   "outputs": [],
   "source": [
    "if IN_COLAB:\n",
    "  !pip install autotime"
   ]
  },
  {
   "cell_type": "code",
   "execution_count": 4,
   "metadata": {},
   "outputs": [
    {
     "name": "stdout",
     "output_type": "stream",
     "text": [
      "time: 70 μs (started: 2024-11-20 00:14:27 -08:00)\n"
     ]
    }
   ],
   "source": [
    "%load_ext autotime"
   ]
  },
  {
   "cell_type": "markdown",
   "metadata": {
    "id": "30XGzAXQl70L"
   },
   "source": [
    "## **Lectura de archivo**"
   ]
  },
  {
   "cell_type": "code",
   "execution_count": 5,
   "metadata": {
    "id": "KncS4rzMn-fH"
   },
   "outputs": [
    {
     "name": "stdout",
     "output_type": "stream",
     "text": [
      "time: 2.78 ms (started: 2024-11-20 00:14:27 -08:00)\n"
     ]
    }
   ],
   "source": [
    "RECORD = None if not IN_COLAB else \"\"\"\n",
    "const sleep  = time => new Promise(resolve => setTimeout(resolve, time));\n",
    "\n",
    "const b2text = blob => new Promise(resolve => {\n",
    "  const reader = new FileReader();\n",
    "  reader.onloadend = e => resolve(e.srcElement.result);\n",
    "  reader.readAsDataURL(blob);\n",
    "});\n",
    "\n",
    "var record = time => new Promise(async resolve => {\n",
    "  const stream = await navigator.mediaDevices.getUserMedia({ audio: true });\n",
    "  const audioContext = new AudioContext({ sampleRate: 44100 });\n",
    "  const source = audioContext.createMediaStreamSource(stream);\n",
    "  const recorder = new MediaRecorder(stream);\n",
    "  let chunks = [];\n",
    "\n",
    "  recorder.ondataavailable = e => chunks.push(e.data);\n",
    "  alert(\"Presiona 'aceptar' para empezar la grabación.\");\n",
    "  recorder.start();\n",
    "  await sleep(time);\n",
    "\n",
    "  recorder.onstop = async () => {\n",
    "    const blob = new Blob(chunks, { type: 'audio/ogg; codecs=opus' });\n",
    "    const arrayBuffer = await blob.arrayBuffer();\n",
    "    const audioBuffer = await audioContext.decodeAudioData(arrayBuffer);\n",
    "\n",
    "    // Convert to WAV format\n",
    "    const wavBlob = encodeWAV(audioBuffer, 44100, 16);\n",
    "    const wavText = await b2text(wavBlob);\n",
    "    resolve(wavText);\n",
    "\n",
    "    // Clean up\n",
    "    stream.getTracks().forEach(track => track.stop());\n",
    "    audioContext.close();\n",
    "  };\n",
    "\n",
    "  recorder.stop();\n",
    "});\n",
    "\n",
    "// WAV encoding function\n",
    "function encodeWAV(audioBuffer, sampleRate, bitDepth) {\n",
    "  const numChannels = audioBuffer.numberOfChannels;\n",
    "  const length = audioBuffer.length * numChannels * (bitDepth / 8);\n",
    "  const buffer = new ArrayBuffer(44 + length);\n",
    "  const view = new DataView(buffer);\n",
    "\n",
    "  // WAV header\n",
    "  writeString(view, 0, 'RIFF');\n",
    "  view.setUint32(4, 36 + length, true);\n",
    "  writeString(view, 8, 'WAVE');\n",
    "  writeString(view, 12, 'fmt ');\n",
    "  view.setUint32(16, 16, true);  // Format chunk length\n",
    "  view.setUint16(20, 1, true);   // PCM format\n",
    "  view.setUint16(22, numChannels, true);\n",
    "  view.setUint32(24, sampleRate, true);\n",
    "  view.setUint32(28, sampleRate * numChannels * (bitDepth / 8), true); // Byte rate\n",
    "  view.setUint16(32, numChannels * (bitDepth / 8), true); // Block align\n",
    "  view.setUint16(34, bitDepth, true); // Bits per sample\n",
    "  writeString(view, 36, 'data');\n",
    "  view.setUint32(40, length, true);\n",
    "\n",
    "  // Write PCM samples\n",
    "  let offset = 44;\n",
    "  for (let channel = 0; channel < numChannels; channel++) {\n",
    "    const data = audioBuffer.getChannelData(channel);\n",
    "    for (let i = 0; i < data.length; i++, offset += 2) {\n",
    "      const sample = Math.max(-1, Math.min(1, data[i]));\n",
    "      view.setInt16(offset, sample < 0 ? sample * 0x8000 : sample * 0x7FFF, true);\n",
    "    }\n",
    "  }\n",
    "\n",
    "  return new Blob([view], { type: 'audio/wav' });\n",
    "}\n",
    "\n",
    "function writeString(view, offset, string) {\n",
    "  for (let i = 0; i < string.length; i++) {\n",
    "    view.setUint8(offset + i, string.charCodeAt(i));\n",
    "  }\n",
    "}\n",
    "\"\"\"\n",
    "\n",
    "def record(sec=10):\n",
    "  output.eval_js(RECORD)\n",
    "  sec += 1\n",
    "  s = output.eval_js('record(%d)' % (sec*1000))\n",
    "  print(\"Grabación terminada\")\n",
    "  b = b64decode(s.split(',')[1])\n",
    "  return b #byte stream"
   ]
  },
  {
   "cell_type": "code",
   "execution_count": 6,
   "metadata": {
    "colab": {
     "base_uri": "https://localhost:8080/",
     "height": 35
    },
    "id": "Hbi3UlfOoB-y",
    "outputId": "f72285aa-77ce-4189-d005-cfb9b43e2579"
   },
   "outputs": [
    {
     "name": "stdin",
     "output_type": "stream",
     "text": [
      " ui\n"
     ]
    },
    {
     "name": "stdout",
     "output_type": "stream",
     "text": [
      "time: 2.5 s (started: 2024-11-20 00:14:27 -08:00)\n"
     ]
    }
   ],
   "source": [
    "audio = input() if not IN_COLAB else record(10)"
   ]
  },
  {
   "cell_type": "code",
   "execution_count": 7,
   "metadata": {
    "colab": {
     "base_uri": "https://localhost:8080/",
     "height": 75
    },
    "id": "kU81dzvqzjJf",
    "outputId": "32e85149-d6fb-4d11-95a5-d892b938be3c"
   },
   "outputs": [
    {
     "ename": "ValueError",
     "evalue": "rate must be specified when data is a numpy array or list of audio samples.",
     "output_type": "error",
     "traceback": [
      "\u001b[1;31m---------------------------------------------------------------------------\u001b[0m",
      "\u001b[1;31mValueError\u001b[0m                                Traceback (most recent call last)",
      "Cell \u001b[1;32mIn[7], line 1\u001b[0m\n\u001b[1;32m----> 1\u001b[0m ipd\u001b[38;5;241m.\u001b[39mdisplay(\u001b[43mipd\u001b[49m\u001b[38;5;241;43m.\u001b[39;49m\u001b[43mAudio\u001b[49m\u001b[43m(\u001b[49m\u001b[43maudio\u001b[49m\u001b[43m)\u001b[49m)\n",
      "File \u001b[1;32m~\\.conda\\envs\\MAAS\\Lib\\site-packages\\IPython\\lib\\display.py:129\u001b[0m, in \u001b[0;36mAudio.__init__\u001b[1;34m(self, data, filename, url, embed, rate, autoplay, normalize, element_id)\u001b[0m\n\u001b[0;32m    127\u001b[0m \u001b[38;5;28;01mif\u001b[39;00m \u001b[38;5;28mself\u001b[39m\u001b[38;5;241m.\u001b[39mdata \u001b[38;5;129;01mis\u001b[39;00m \u001b[38;5;129;01mnot\u001b[39;00m \u001b[38;5;28;01mNone\u001b[39;00m \u001b[38;5;129;01mand\u001b[39;00m \u001b[38;5;129;01mnot\u001b[39;00m \u001b[38;5;28misinstance\u001b[39m(\u001b[38;5;28mself\u001b[39m\u001b[38;5;241m.\u001b[39mdata, \u001b[38;5;28mbytes\u001b[39m):\n\u001b[0;32m    128\u001b[0m     \u001b[38;5;28;01mif\u001b[39;00m rate \u001b[38;5;129;01mis\u001b[39;00m \u001b[38;5;28;01mNone\u001b[39;00m:\n\u001b[1;32m--> 129\u001b[0m         \u001b[38;5;28;01mraise\u001b[39;00m \u001b[38;5;167;01mValueError\u001b[39;00m(\u001b[38;5;124m\"\u001b[39m\u001b[38;5;124mrate must be specified when data is a numpy array or list of audio samples.\u001b[39m\u001b[38;5;124m\"\u001b[39m)\n\u001b[0;32m    130\u001b[0m     \u001b[38;5;28mself\u001b[39m\u001b[38;5;241m.\u001b[39mdata \u001b[38;5;241m=\u001b[39m Audio\u001b[38;5;241m.\u001b[39m_make_wav(data, rate, normalize)\n",
      "\u001b[1;31mValueError\u001b[0m: rate must be specified when data is a numpy array or list of audio samples."
     ]
    },
    {
     "name": "stdout",
     "output_type": "stream",
     "text": [
      "time: 266 ms (started: 2024-11-20 00:14:29 -08:00)\n"
     ]
    }
   ],
   "source": [
    "ipd.display(ipd.Audio(audio if IN_COLAB else './samples/' + audio + '.wav'))"
   ]
  },
  {
   "cell_type": "code",
   "execution_count": null,
   "metadata": {
    "colab": {
     "base_uri": "https://localhost:8080/"
    },
    "id": "GQxflJP38rt_",
    "outputId": "d63cb1c2-84db-4a76-83d3-27b0ae64b83d"
   },
   "outputs": [],
   "source": [
    "data, sr = None, None\n",
    "if (IN_COLAB): data, sr = sf.read(io.BytesIO(audio))\n",
    "else: sr, data = wav.read('./samples/' + audio + '.wav')\n",
    "if (data.ndim == 2): data = data.mean(axis=1).astype(data.dtype)\n",
    "print(\"Sample rate is {0}Hz\".format(sr))"
   ]
  },
  {
   "cell_type": "code",
   "execution_count": null,
   "metadata": {
    "id": "9eFG2ZVUJCmU"
   },
   "outputs": [],
   "source": [
    "if (IN_COLAB):\n",
    "  %run /content/MAAS_Filters.ipynb\n",
    "else:\n",
    "  %run ./MAAS_Filters.ipynb"
   ]
  },
  {
   "cell_type": "code",
   "execution_count": null,
   "metadata": {
    "id": "i97ofDC-Jl0u"
   },
   "outputs": [],
   "source": [
    "filtered = MAAS_filter(data, sr, None if IN_COLAB else './database/' + audio + '.csv')"
   ]
  },
  {
   "cell_type": "code",
   "execution_count": null,
   "metadata": {
    "id": "JDX_4r7_KUUD"
   },
   "outputs": [],
   "source": [
    "filtered"
   ]
  }
 ],
 "metadata": {
  "colab": {
   "provenance": []
  },
  "kernelspec": {
   "display_name": "Python 3 (ipykernel)",
   "language": "python",
   "name": "python3"
  },
  "language_info": {
   "codemirror_mode": {
    "name": "ipython",
    "version": 3
   },
   "file_extension": ".py",
   "mimetype": "text/x-python",
   "name": "python",
   "nbconvert_exporter": "python",
   "pygments_lexer": "ipython3",
   "version": "3.13.0"
  }
 },
 "nbformat": 4,
 "nbformat_minor": 4
}
