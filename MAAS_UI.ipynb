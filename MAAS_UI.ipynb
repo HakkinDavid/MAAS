{
 "cells": [
  {
   "cell_type": "markdown",
   "metadata": {},
   "source": [
    "# **MAAS User Interface**\n",
    "\n",
    "Este notebook detalla la interfaz a utilizar para ejecutar MAAS. Funciona en Google Colab y en JupyterLab.\n",
    "\n",
    "## Consideraciones\n",
    "### Instalar\n",
    "- numpy\n",
    "- IPython\n",
    "- soundfile\n",
    "- scipy\n",
    "- matplotlib\n",
    "- sounddevice\n",
    "- ipython-autotime\n",
    "\n",
    "### Si ejecuta en JupyterLab\n",
    "- Le preguntará si gusta grabar desde el micrófono (presione ENTER); de no ser así, escriba el nombre de un archivo WAV a 44100 Hz (con extensión), colocado en ./samples/ y presione ENTER.\n",
    "- Si cargó un archivo de audio, le preguntará si gusta guardar el CSV generado con MAAS_filter() en ./database/ para posteriores comparaciones.\n",
    "- Si clonó el repositorio, funciona out of the box. Recuerde instalar toda la paquetería requerida y verificar que MAAS_Filters.ipynb se encuentre en el mismo directorio.\n",
    "\n",
    "### Si ejecuta en Colab\n",
    "- Puede utilizar el micrófono y grabar (si la sesión es nueva, puede que requiera de dos intentos por cuestiones de permisos).\n",
    "- No se guardará ningún CSV.\n",
    "- Debe cargar la base de datos a la raíz de la sesión (\\[/content\\]/*.csv) para realizar la comparación.\n",
    "- Debe cargar el módulo MAAS_Filters.ipynb a la raíz de la sesión (\\[/content\\]/MAAS_Filters.ipynb)."
   ]
  },
  {
   "cell_type": "markdown",
   "metadata": {
    "id": "5BgHy9Vom0Lo"
   },
   "source": [
    "## Autores\n",
    "- Diego Casta - 35705\n",
    "- Mauricio Alcántar - 35860\n",
    "- David Santana - 35967"
   ]
  },
  {
   "cell_type": "markdown",
   "metadata": {
    "id": "D8QRatuMmro3"
   },
   "source": [
    "## **Librerías**"
   ]
  },
  {
   "cell_type": "code",
   "execution_count": null,
   "metadata": {},
   "outputs": [],
   "source": [
    "# Intentar cargar la librería de Google Colab.\n",
    "try:\n",
    "    from google.colab import output\n",
    "except ImportError:\n",
    "    pass\n",
    "\n",
    "# Decidir si estamos en colab.\n",
    "IN_COLAB = None\n",
    "if 'google.colab' in str(get_ipython()):\n",
    "  IN_COLAB = True\n",
    "  print('Ejecutándose en Colab')\n",
    "else:\n",
    "  IN_COLAB = False\n",
    "  print('Ejecutándose localmente')\n",
    "\n",
    "# Si es así, instalar librerías automáticamente.\n",
    "if IN_COLAB:\n",
    "  !pip install ipython-autotime numpy IPython soundfile scipy matplotlib sounddevice"
   ]
  },
  {
   "cell_type": "code",
   "execution_count": null,
   "metadata": {},
   "outputs": [],
   "source": [
    "# Cargar métrica de tiempo para las celdas\n",
    "%load_ext autotime"
   ]
  },
  {
   "cell_type": "code",
   "execution_count": null,
   "metadata": {
    "colab": {
     "base_uri": "https://localhost:8080/"
    },
    "id": "BFgKW1v5mwoc",
    "outputId": "d28477b7-ba39-4b24-ee7c-196a3f13e8ff"
   },
   "outputs": [],
   "source": [
    "# Importar librerías\n",
    "import numpy as np\n",
    "from base64 import b64decode\n",
    "from IPython.display import Javascript\n",
    "import IPython.display as ipd\n",
    "import io\n",
    "import soundfile as sf\n",
    "from scipy import signal as sig\n",
    "from scipy.io import wavfile as wav\n",
    "from os import listdir\n",
    "import sounddevice as sd\n",
    "import matplotlib.pyplot as plt\n",
    "import math"
   ]
  },
  {
   "cell_type": "markdown",
   "metadata": {
    "id": "30XGzAXQl70L"
   },
   "source": [
    "## **Lectura de archivo**"
   ]
  },
  {
   "cell_type": "code",
   "execution_count": null,
   "metadata": {
    "colab": {
     "base_uri": "https://localhost:8080/"
    },
    "id": "KncS4rzMn-fH",
    "outputId": "e2016d4c-9c82-4890-90e0-a45fdf6d1a75"
   },
   "outputs": [],
   "source": [
    "# Código JavaScript para grabar desde el micrófono del navegador en Colab. Se ignora si el entorno no es Colab.\n",
    "RECORD = None if not IN_COLAB else \"\"\"\n",
    "const sleep  = time => new Promise(resolve => setTimeout(resolve, time));\n",
    "\n",
    "const b2text = blob => new Promise(resolve => {\n",
    "  const reader = new FileReader();\n",
    "  reader.onloadend = e => resolve(e.srcElement.result);\n",
    "  reader.readAsDataURL(blob);\n",
    "});\n",
    "\n",
    "var record = time => new Promise(async resolve => {\n",
    "  const stream = await navigator.mediaDevices.getUserMedia({ audio: true });\n",
    "  const audioContext = new AudioContext({ sampleRate: 44100 });\n",
    "  const source = audioContext.createMediaStreamSource(stream);\n",
    "  const recorder = new MediaRecorder(stream);\n",
    "  let chunks = [];\n",
    "\n",
    "  recorder.ondataavailable = e => chunks.push(e.data);\n",
    "  alert(\"Presiona 'aceptar' para empezar la grabación.\");\n",
    "  recorder.start();\n",
    "  await sleep(time);\n",
    "\n",
    "  recorder.onstop = async () => {\n",
    "    const blob = new Blob(chunks, { type: 'audio/ogg; codecs=opus' });\n",
    "    const arrayBuffer = await blob.arrayBuffer();\n",
    "    const audioBuffer = await audioContext.decodeAudioData(arrayBuffer);\n",
    "\n",
    "    // Convert to WAV format\n",
    "    const wavBlob = encodeWAV(audioBuffer, 44100, 16);\n",
    "    const wavText = await b2text(wavBlob);\n",
    "    resolve(wavText);\n",
    "\n",
    "    // Clean up\n",
    "    stream.getTracks().forEach(track => track.stop());\n",
    "    audioContext.close();\n",
    "  };\n",
    "\n",
    "  recorder.stop();\n",
    "});\n",
    "\n",
    "// WAV encoding function\n",
    "function encodeWAV(audioBuffer, sampleRate, bitDepth) {\n",
    "  const numChannels = audioBuffer.numberOfChannels;\n",
    "  const length = audioBuffer.length * numChannels * (bitDepth / 8);\n",
    "  const buffer = new ArrayBuffer(44 + length);\n",
    "  const view = new DataView(buffer);\n",
    "\n",
    "  // WAV header\n",
    "  writeString(view, 0, 'RIFF');\n",
    "  view.setUint32(4, 36 + length, true);\n",
    "  writeString(view, 8, 'WAVE');\n",
    "  writeString(view, 12, 'fmt ');\n",
    "  view.setUint32(16, 16, true);  // Format chunk length\n",
    "  view.setUint16(20, 1, true);   // PCM format\n",
    "  view.setUint16(22, numChannels, true);\n",
    "  view.setUint32(24, sampleRate, true);\n",
    "  view.setUint32(28, sampleRate * numChannels * (bitDepth / 8), true); // Byte rate\n",
    "  view.setUint16(32, numChannels * (bitDepth / 8), true); // Block align\n",
    "  view.setUint16(34, bitDepth, true); // Bits per sample\n",
    "  writeString(view, 36, 'data');\n",
    "  view.setUint32(40, length, true);\n",
    "\n",
    "  // Write PCM samples\n",
    "  let offset = 44;\n",
    "  for (let channel = 0; channel < numChannels; channel++) {\n",
    "    const data = audioBuffer.getChannelData(channel);\n",
    "    for (let i = 0; i < data.length; i++, offset += 2) {\n",
    "      const sample = Math.max(-1, Math.min(1, data[i]));\n",
    "      view.setInt16(offset, sample < 0 ? sample * 0x8000 : sample * 0x7FFF, true);\n",
    "    }\n",
    "  }\n",
    "\n",
    "  return new Blob([view], { type: 'audio/wav' });\n",
    "}\n",
    "\n",
    "function writeString(view, offset, string) {\n",
    "  for (let i = 0; i < string.length; i++) {\n",
    "    view.setUint8(offset + i, string.charCodeAt(i));\n",
    "  }\n",
    "}\n",
    "\"\"\"\n",
    "\n",
    "# Función para grabar desde el micrófono local en JupyterLab. Retorna los datos y la tasa de muestreo.\n",
    "def record_lab(duration=5, sample_rate=44100, channels=1):\n",
    "    print(\"Grabando...\")\n",
    "    recording = sd.rec(int(duration * sample_rate), samplerate=sample_rate, channels=channels, dtype='int16')\n",
    "    sd.wait()\n",
    "    print(\"Grabación terminada.\")\n",
    "    return recording, sample_rate\n",
    "\n",
    "# Función máscara para grabar en JupyterLab o Colab. Retorna un BytesIO con los datos del audio grabado.\n",
    "def record(sec=10):\n",
    "  if (IN_COLAB):\n",
    "    output.eval_js(RECORD)\n",
    "    sec += 1\n",
    "    s = output.eval_js('record(%d)' % (sec*1000))\n",
    "    print(\"Grabación terminada\")\n",
    "    return io.BytesIO(b64decode(s.split(',')[1]))\n",
    "  else:\n",
    "    recording, sample_rate = record_lab(duration=sec)\n",
    "    byte_io = io.BytesIO()\n",
    "    wav.write(byte_io, sample_rate, recording)\n",
    "    byte_io.seek(0)\n",
    "    return byte_io"
   ]
  },
  {
   "cell_type": "code",
   "execution_count": null,
   "metadata": {},
   "outputs": [],
   "source": [
    "FILENAME = '' if IN_COLAB else input(\"Presiona ENTER para grabar o introduce el nombre de un archivo WAV colocado en ./samples/\")"
   ]
  },
  {
   "cell_type": "code",
   "execution_count": null,
   "metadata": {
    "colab": {
     "base_uri": "https://localhost:8080/",
     "height": 52
    },
    "id": "Hbi3UlfOoB-y",
    "outputId": "6c98cd67-743c-41a0-f3fa-9d2aa66a2a6e"
   },
   "outputs": [],
   "source": [
    "audio = record(10) if FILENAME == '' else open('./samples/' + FILENAME, 'rb') # Si no hay nombre de archivo, grabamos."
   ]
  },
  {
   "cell_type": "code",
   "execution_count": null,
   "metadata": {
    "colab": {
     "base_uri": "https://localhost:8080/",
     "height": 93
    },
    "id": "kU81dzvqzjJf",
    "outputId": "d2d8471a-7710-4fca-8e33-2eb0d639725b"
   },
   "outputs": [],
   "source": [
    "ipd.display(ipd.Audio(audio.read())) # Mostrar el audio a procesar."
   ]
  },
  {
   "cell_type": "code",
   "execution_count": null,
   "metadata": {
    "colab": {
     "base_uri": "https://localhost:8080/"
    },
    "id": "GQxflJP38rt_",
    "outputId": "b540dd98-7e3b-422f-ecc2-fef315b88aac"
   },
   "outputs": [],
   "source": [
    "audio.seek(0) # Retornar el cabezal del audio a 0.\n",
    "data, sr = sf.read(audio) # Obtener de vuelta los datos y tasa de muestreo.\n",
    "if (data.ndim == 2): data = data.mean(axis=1).astype(data.dtype) # Si hay dos canales, hacer mono.\n",
    "print(\"La tasa de muestreo es {0}Hz\".format(sr)) # Verificar tasa de muestreo."
   ]
  },
  {
   "cell_type": "code",
   "execution_count": null,
   "metadata": {
    "colab": {
     "base_uri": "https://localhost:8080/"
    },
    "id": "9eFG2ZVUJCmU",
    "outputId": "3a30ce6b-3dbc-4078-837c-218a4e71120b"
   },
   "outputs": [],
   "source": [
    "# Ejecutar la definición de MAAS_filter(), ubicada en el módulo MAAS_Filters.ipynb.\n",
    "if (IN_COLAB):\n",
    "  %run /content/MAAS_Filters.ipynb # En Colab, se busca en el directorio content (raíz).\n",
    "else:\n",
    "  %run ./MAAS_Filters.ipynb # En JupyterLab, se busca en el mismo directorio."
   ]
  },
  {
   "cell_type": "code",
   "execution_count": null,
   "metadata": {},
   "outputs": [],
   "source": [
    "SHOULD_SAVE = False if IN_COLAB or FILENAME == '' else input('¿Guardar ./database/' + FILENAME[0:-3] + 'csv? [y/N]').lower() == 'y'"
   ]
  },
  {
   "cell_type": "code",
   "execution_count": null,
   "metadata": {
    "colab": {
     "base_uri": "https://localhost:8080/",
     "height": 1000
    },
    "id": "i97ofDC-Jl0u",
    "outputId": "6625aab2-1f09-4c34-9cee-3d9f017f3464"
   },
   "outputs": [],
   "source": [
    "filtered = MAAS_filter(data, sr, None if (not SHOULD_SAVE) else './database/' + FILENAME[0:-3] + 'csv') # Ejecutar filtros."
   ]
  },
  {
   "cell_type": "code",
   "execution_count": null,
   "metadata": {
    "colab": {
     "base_uri": "https://localhost:8080/"
    },
    "id": "JDX_4r7_KUUD",
    "outputId": "971f2629-2970-45b8-b0bc-ed2e53fe3a77"
   },
   "outputs": [],
   "source": [
    "filtered, filtered.shape[1] # Mostrar datos filtrados."
   ]
  },
  {
   "cell_type": "code",
   "execution_count": null,
   "metadata": {
    "colab": {
     "base_uri": "https://localhost:8080/"
    },
    "id": "gMPY-ItislTB",
    "outputId": "fa9282d3-2ae2-45c4-c077-c41c40559c65"
   },
   "outputs": [],
   "source": [
    "# Función para ejecutar una regresión lineal sobre los pares de tiempo e intervalos.\n",
    "def LinearRegressionMAAS(x, y, details=False):\n",
    "    n = x.size\n",
    "    xS = sum(x)\n",
    "    yS = sum(y)\n",
    "    x2 = sum(x**2)\n",
    "    y2 = sum(y**2)\n",
    "    xy = sum(x*y)\n",
    "    \n",
    "    # Cálculo de coeficientes\n",
    "    a1 = ((n*xy) - (xS*yS)) / ((n*x2) - (xS**2))\n",
    "    a0 = np.mean(y) - (a1 * np.mean(x))\n",
    "\n",
    "    # Ajuste lineal\n",
    "    f = a0 + (a1 * x)\n",
    "\n",
    "    # Métrica de R^2\n",
    "    RSS = sum((y - f)**2)\n",
    "    TSS = sum((y - np.mean(y))**2)\n",
    "    R2 = 0\n",
    "    if TSS: R2 = 1 - (RSS / TSS)\n",
    "\n",
    "    # Graficación\n",
    "    if details:\n",
    "        plt.plot(x, f, 'bo-')\n",
    "        plt.plot(x ,y , 'ko')\n",
    "        plt.title(\"Window\")\n",
    "        plt.show()\n",
    "        print(f\"y = {a0:.4f} + {a1:.4f}x\")\n",
    "    print(f\"R² = {R2:.6f}\")\n",
    "    \n",
    "    return R2"
   ]
  },
  {
   "cell_type": "code",
   "execution_count": null,
   "metadata": {
    "colab": {
     "base_uri": "https://localhost:8080/"
    },
    "id": "kF4FV0d1tGQ3",
    "outputId": "645465ca-b6ba-4c0c-ea31-f8e2fd600d4a"
   },
   "outputs": [],
   "source": [
    "# Función para analizar ventana por ventana\n",
    "def SlidingWindowRegression(recording_song, test_song, step, silent=True):\n",
    "    rec_times, rec_intervals = recording_song[0], recording_song[1]\n",
    "    test_times, test_intervals = test_song[0], test_song[1]\n",
    "    window_size = rec_times[-1] - rec_times[0]\n",
    "    step_size = np.floor(window_size / step)\n",
    "    R2_arr = np.zeros(0)\n",
    "    count = 0\n",
    "\n",
    "    window_start = 0\n",
    "    window_stop = 0\n",
    "    while window_stop < test_times[-1]:\n",
    "        window_stop = window_start + window_size\n",
    "        window_mask = (test_times >= window_start) & (test_times <= window_stop)\n",
    "        cur_times = test_times[window_mask]\n",
    "        cur_intervals = test_intervals[window_mask]\n",
    "\n",
    "        rec_pairs = np.zeros(0)\n",
    "        test_pairs = np.zeros(0)\n",
    "        for i in range(rec_times.size):\n",
    "            inter_mask = abs(cur_intervals - rec_intervals[i]) <= 5\n",
    "            inter_mask = inter_mask & (abs(cur_intervals - rec_intervals[i]) >= 5)\n",
    "            new_pairs = cur_times[inter_mask]\n",
    "            test_pairs = np.append(test_pairs, new_pairs)\n",
    "            rec_pairs = np.append(rec_pairs, [rec_intervals[i]]*new_pairs.size)\n",
    "\n",
    "        count += 1\n",
    "        window_start += step_size\n",
    "\n",
    "        if test_pairs.size:\n",
    "            R2 = LinearRegressionMAAS(rec_pairs, test_pairs, details=not silent)\n",
    "            R2_arr = np.append(R2_arr, R2)\n",
    "            if not silent: print(f'Window {count} done successfully.')\n",
    "        else:\n",
    "            if not silent: print(f'Window {count} done, no pairs found.')\n",
    "    \n",
    "    if R2_arr.size:\n",
    "        \n",
    "        return max(R2_arr[R2_arr != 1.0])\n",
    "    else:\n",
    "        if not silent: print(\"Zero matches.\\n\")\n",
    "        return 0"
   ]
  },
  {
   "cell_type": "code",
   "execution_count": null,
   "metadata": {},
   "outputs": [],
   "source": [
    "# Función para obtener todos los CSVs del directorio de la base de datos.\n",
    "def get_database():\n",
    "    filenames = listdir(\"/content/\" if IN_COLAB else \"./database/\")\n",
    "    return [ filename for filename in filenames if filename.endswith(\".csv\") ]"
   ]
  },
  {
   "cell_type": "code",
   "execution_count": null,
   "metadata": {
    "colab": {
     "base_uri": "https://localhost:8080/"
    },
    "id": "ZTvSeXystNm9",
    "outputId": "dcd3f2f1-34e6-409f-bb60-56be62bcb4bf"
   },
   "outputs": [],
   "source": [
    "# Función para comparar dos audios filtrados.\n",
    "def compare(filtered_song, db_obj, silent=True):\n",
    "    test_song = np.transpose(np.genfromtxt((\"/content/\" if IN_COLAB else \"./database/\") + db_obj, delimiter=\",\", skip_header=1))\n",
    "\n",
    "    print(\"Testing against:\", db_obj)\n",
    "    \n",
    "    R2 = SlidingWindowRegression(filtered_song, test_song, 3, silent=silent)\n",
    "    \n",
    "    if R2:\n",
    "        print(\"Best R²:\", R2)\n",
    "    else:\n",
    "        if not silent: print(f\"Zero correlation found for {db_obj}.\")\n",
    "    return R2"
   ]
  },
  {
   "cell_type": "code",
   "execution_count": null,
   "metadata": {},
   "outputs": [],
   "source": [
    "database = get_database() # Obtener la base de datos.\n",
    "results = {} # Objeto para almacenar resultados.\n",
    "for SONG in database: # Para cada canción de la base de datos...\n",
    "    results[SONG] = compare(filtered, SONG) # ... comparar con el audio filtrado.\n",
    "\n",
    "identified_song = max(results, key=results.get)[0:-4]\n",
    "identified_song_name = ' '.join([str.capitalize() for str in identified_song.split('_')])\n",
    "# Imprimir resultado.\n",
    "print(f\"La canción identificada fue {identified_song_name}\")"
   ]
  },
  {
   "cell_type": "raw",
   "metadata": {},
   "source": [
    "try:\n",
    "    ipd.display(ipd.Audio('./samples/' + identified_song + '.wav')) # Si la canción existe localmente (poco probable, ya que no podemos incluir la música legalmente en el repositorio), mostrar\n",
    "except ValueError:\n",
    "    print(\"Encuéntrala en: https://www.youtube.com/results?search_query=\" + identified_song_name.replace(' ', '+')) # Redirigir a YouTube para ver"
   ]
  }
 ],
 "metadata": {
  "colab": {
   "provenance": []
  },
  "kernelspec": {
   "display_name": "Python 3 (ipykernel)",
   "language": "python",
   "name": "python3"
  },
  "language_info": {
   "codemirror_mode": {
    "name": "ipython",
    "version": 3
   },
   "file_extension": ".py",
   "mimetype": "text/x-python",
   "name": "python",
   "nbconvert_exporter": "python",
   "pygments_lexer": "ipython3",
   "version": "3.12.7"
  }
 },
 "nbformat": 4,
 "nbformat_minor": 4
}
