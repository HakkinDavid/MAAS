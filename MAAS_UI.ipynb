{
 "cells": [
  {
   "cell_type": "markdown",
   "metadata": {},
   "source": [
    "# **MAAS User Interface**\n",
    "\n",
    "Este notebook detalla la interfaz a utilizar para ejecutar MAAS. Funciona en Google Colab y en JupyterLab.\n",
    "\n",
    "## Consideraciones\n",
    "### Instalar\n",
    "- numpy\n",
    "- IPython\n",
    "- soundfile\n",
    "- scipy\n",
    "- matplotlib\n",
    "- sounddevice\n",
    "- ipython-autotime\n",
    "\n",
    "### Si ejecuta en JupyterLab\n",
    "- Se preguntará si gusta grabar desde el micrófono, de no ser así se solicitará el nombre de un archivo WAV a 44100 Hz, colocado en ./samples/\n",
    "- Se preguntará si gusta guardar el CSV generado con MAAS_filter() en ./database/\n",
    "- Funciona out of the box, siempre que tenga toda la paquetería requerida y que MAAS_Filters.ipynb se encuentre en el mismo directorio\n",
    "\n",
    "### Si ejecuta en Colab\n",
    "- Puede utilizar el micrófono y grabar (si la sesión es nueva, puede que requiera de dos intentos por cuestiones de permisos)\n",
    "- No se guardará ningún CSV\n",
    "- Debe cargar la base de datos a la raíz de la sesión (\\[/content\\]/*.csv) para realizar la comparación\n",
    "- Debe cargar el módulo MAAS_Filters.ipynb a la raíz de la sesión (\\[/content\\]/MAAS_Filters.ipynb)"
   ]
  },
  {
   "cell_type": "markdown",
   "metadata": {
    "id": "5BgHy9Vom0Lo"
   },
   "source": [
    "## Autores\n",
    "- Diego Casta - 35705\n",
    "- Mauricio Alcántar - 35860\n",
    "- David Santana - 35967"
   ]
  },
  {
   "cell_type": "markdown",
   "metadata": {
    "id": "D8QRatuMmro3"
   },
   "source": [
    "## **Librerías**"
   ]
  },
  {
   "cell_type": "code",
   "execution_count": 1,
   "metadata": {
    "colab": {
     "base_uri": "https://localhost:8080/"
    },
    "id": "BFgKW1v5mwoc",
    "outputId": "d28477b7-ba39-4b24-ee7c-196a3f13e8ff"
   },
   "outputs": [],
   "source": [
    "import numpy as np\n",
    "from io import BytesIO\n",
    "from base64 import b64decode\n",
    "try:\n",
    "    from google.colab import output\n",
    "except ImportError:\n",
    "    pass\n",
    "from IPython.display import Javascript\n",
    "import IPython.display as ipd\n",
    "import io\n",
    "import soundfile as sf\n",
    "from scipy import signal as sig\n",
    "from scipy.io import wavfile as wav\n",
    "from os import listdir\n",
    "import sounddevice as sd\n",
    "import matplotlib.pyplot as plt\n",
    "import math"
   ]
  },
  {
   "cell_type": "code",
   "execution_count": 2,
   "metadata": {
    "colab": {
     "base_uri": "https://localhost:8080/"
    },
    "id": "LBBVFu2SL6wd",
    "outputId": "9f6c196a-c603-43ca-f175-e0c93f015f75"
   },
   "outputs": [
    {
     "name": "stdout",
     "output_type": "stream",
     "text": [
      "Ejecutándose localmente\n"
     ]
    }
   ],
   "source": [
    "IN_COLAB = None\n",
    "if 'google.colab' in str(get_ipython()):\n",
    "  IN_COLAB = True\n",
    "  print('Ejecutándose en Colab')\n",
    "else:\n",
    "  IN_COLAB = False\n",
    "  print('Ejecutándose localmente')"
   ]
  },
  {
   "cell_type": "code",
   "execution_count": 3,
   "metadata": {
    "colab": {
     "base_uri": "https://localhost:8080/"
    },
    "id": "3XS6G4I_-kQb",
    "outputId": "7cc0aa16-609f-417b-f98f-b338d3dc2e1e"
   },
   "outputs": [],
   "source": [
    "if IN_COLAB:\n",
    "  !pip install ipython-autotime"
   ]
  },
  {
   "cell_type": "code",
   "execution_count": 4,
   "metadata": {
    "colab": {
     "base_uri": "https://localhost:8080/"
    },
    "id": "NGbYXP5r-qCZ",
    "outputId": "acfb764f-53d1-4f81-ead4-f23909ee5194"
   },
   "outputs": [
    {
     "name": "stdout",
     "output_type": "stream",
     "text": [
      "time: 0 ns (started: 2024-11-28 00:35:30 -08:00)\n"
     ]
    }
   ],
   "source": [
    "%load_ext autotime"
   ]
  },
  {
   "cell_type": "markdown",
   "metadata": {
    "id": "30XGzAXQl70L"
   },
   "source": [
    "## **Lectura de archivo**"
   ]
  },
  {
   "cell_type": "code",
   "execution_count": 5,
   "metadata": {
    "colab": {
     "base_uri": "https://localhost:8080/"
    },
    "id": "KncS4rzMn-fH",
    "outputId": "e2016d4c-9c82-4890-90e0-a45fdf6d1a75"
   },
   "outputs": [
    {
     "name": "stdout",
     "output_type": "stream",
     "text": [
      "time: 0 ns (started: 2024-11-28 00:35:30 -08:00)\n"
     ]
    }
   ],
   "source": [
    "RECORD = None if not IN_COLAB else \"\"\"\n",
    "const sleep  = time => new Promise(resolve => setTimeout(resolve, time));\n",
    "\n",
    "const b2text = blob => new Promise(resolve => {\n",
    "  const reader = new FileReader();\n",
    "  reader.onloadend = e => resolve(e.srcElement.result);\n",
    "  reader.readAsDataURL(blob);\n",
    "});\n",
    "\n",
    "var record = time => new Promise(async resolve => {\n",
    "  const stream = await navigator.mediaDevices.getUserMedia({ audio: true });\n",
    "  const audioContext = new AudioContext({ sampleRate: 44100 });\n",
    "  const source = audioContext.createMediaStreamSource(stream);\n",
    "  const recorder = new MediaRecorder(stream);\n",
    "  let chunks = [];\n",
    "\n",
    "  recorder.ondataavailable = e => chunks.push(e.data);\n",
    "  alert(\"Presiona 'aceptar' para empezar la grabación.\");\n",
    "  recorder.start();\n",
    "  await sleep(time);\n",
    "\n",
    "  recorder.onstop = async () => {\n",
    "    const blob = new Blob(chunks, { type: 'audio/ogg; codecs=opus' });\n",
    "    const arrayBuffer = await blob.arrayBuffer();\n",
    "    const audioBuffer = await audioContext.decodeAudioData(arrayBuffer);\n",
    "\n",
    "    // Convert to WAV format\n",
    "    const wavBlob = encodeWAV(audioBuffer, 44100, 16);\n",
    "    const wavText = await b2text(wavBlob);\n",
    "    resolve(wavText);\n",
    "\n",
    "    // Clean up\n",
    "    stream.getTracks().forEach(track => track.stop());\n",
    "    audioContext.close();\n",
    "  };\n",
    "\n",
    "  recorder.stop();\n",
    "});\n",
    "\n",
    "// WAV encoding function\n",
    "function encodeWAV(audioBuffer, sampleRate, bitDepth) {\n",
    "  const numChannels = audioBuffer.numberOfChannels;\n",
    "  const length = audioBuffer.length * numChannels * (bitDepth / 8);\n",
    "  const buffer = new ArrayBuffer(44 + length);\n",
    "  const view = new DataView(buffer);\n",
    "\n",
    "  // WAV header\n",
    "  writeString(view, 0, 'RIFF');\n",
    "  view.setUint32(4, 36 + length, true);\n",
    "  writeString(view, 8, 'WAVE');\n",
    "  writeString(view, 12, 'fmt ');\n",
    "  view.setUint32(16, 16, true);  // Format chunk length\n",
    "  view.setUint16(20, 1, true);   // PCM format\n",
    "  view.setUint16(22, numChannels, true);\n",
    "  view.setUint32(24, sampleRate, true);\n",
    "  view.setUint32(28, sampleRate * numChannels * (bitDepth / 8), true); // Byte rate\n",
    "  view.setUint16(32, numChannels * (bitDepth / 8), true); // Block align\n",
    "  view.setUint16(34, bitDepth, true); // Bits per sample\n",
    "  writeString(view, 36, 'data');\n",
    "  view.setUint32(40, length, true);\n",
    "\n",
    "  // Write PCM samples\n",
    "  let offset = 44;\n",
    "  for (let channel = 0; channel < numChannels; channel++) {\n",
    "    const data = audioBuffer.getChannelData(channel);\n",
    "    for (let i = 0; i < data.length; i++, offset += 2) {\n",
    "      const sample = Math.max(-1, Math.min(1, data[i]));\n",
    "      view.setInt16(offset, sample < 0 ? sample * 0x8000 : sample * 0x7FFF, true);\n",
    "    }\n",
    "  }\n",
    "\n",
    "  return new Blob([view], { type: 'audio/wav' });\n",
    "}\n",
    "\n",
    "function writeString(view, offset, string) {\n",
    "  for (let i = 0; i < string.length; i++) {\n",
    "    view.setUint8(offset + i, string.charCodeAt(i));\n",
    "  }\n",
    "}\n",
    "\"\"\"\n",
    "\n",
    "def record_lab(duration=5, sample_rate=44100, channels=1):\n",
    "    print(\"Grabando...\")\n",
    "    recording = sd.rec(int(duration * sample_rate), samplerate=sample_rate, channels=channels, dtype='int16')\n",
    "    sd.wait()\n",
    "    print(\"Grabación terminada.\")\n",
    "    return recording, sample_rate\n",
    "\n",
    "def record(sec=10):\n",
    "  if (IN_COLAB):\n",
    "    output.eval_js(RECORD)\n",
    "    sec += 1\n",
    "    s = output.eval_js('record(%d)' % (sec*1000))\n",
    "    print(\"Grabación terminada\")\n",
    "    return io.BytesIO(b64decode(s.split(',')[1]))\n",
    "  else:\n",
    "    recording, sample_rate = record_lab(duration=sec)\n",
    "    byte_io = io.BytesIO()\n",
    "    wav.write(byte_io, sample_rate, recording)\n",
    "    byte_io.seek(0)\n",
    "    return byte_io"
   ]
  },
  {
   "cell_type": "code",
   "execution_count": 6,
   "metadata": {},
   "outputs": [
    {
     "name": "stdin",
     "output_type": "stream",
     "text": [
      "Presiona ENTER para grabar o introduce el nombre de un archivo WAV colocado en ./samples/ ui.wav\n"
     ]
    },
    {
     "name": "stdout",
     "output_type": "stream",
     "text": [
      "time: 23.3 s (started: 2024-11-28 00:35:30 -08:00)\n"
     ]
    }
   ],
   "source": [
    "FILENAME = '' if IN_COLAB else input(\"Presiona ENTER para grabar o introduce el nombre de un archivo WAV colocado en ./samples/\")"
   ]
  },
  {
   "cell_type": "code",
   "execution_count": 7,
   "metadata": {
    "colab": {
     "base_uri": "https://localhost:8080/",
     "height": 52
    },
    "id": "Hbi3UlfOoB-y",
    "outputId": "6c98cd67-743c-41a0-f3fa-9d2aa66a2a6e"
   },
   "outputs": [
    {
     "name": "stdout",
     "output_type": "stream",
     "text": [
      "time: 0 ns (started: 2024-11-28 00:35:54 -08:00)\n"
     ]
    }
   ],
   "source": [
    "audio = record(10) if FILENAME == '' else open('./samples/' + FILENAME, 'rb')"
   ]
  },
  {
   "cell_type": "code",
   "execution_count": 8,
   "metadata": {
    "colab": {
     "base_uri": "https://localhost:8080/",
     "height": 93
    },
    "id": "kU81dzvqzjJf",
    "outputId": "d2d8471a-7710-4fca-8e33-2eb0d639725b"
   },
   "outputs": [
    {
     "data": {
      "text/html": [
       "\n",
       "                <audio  controls=\"controls\" >\n",
       "                    <source src=\"data:audio/wav;base64,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\" type=\"audio/wav\" />\n",
       "                    Your browser does not support the audio element.\n",
       "                </audio>\n",
       "              "
      ],
      "text/plain": [
       "<IPython.lib.display.Audio object>"
      ]
     },
     "metadata": {},
     "output_type": "display_data"
    },
    {
     "name": "stdout",
     "output_type": "stream",
     "text": [
      "time: 16 ms (started: 2024-11-28 00:35:54 -08:00)\n"
     ]
    }
   ],
   "source": [
    "ipd.display(ipd.Audio(audio.read()))"
   ]
  },
  {
   "cell_type": "code",
   "execution_count": 9,
   "metadata": {
    "colab": {
     "base_uri": "https://localhost:8080/"
    },
    "id": "GQxflJP38rt_",
    "outputId": "b540dd98-7e3b-422f-ecc2-fef315b88aac"
   },
   "outputs": [
    {
     "name": "stdout",
     "output_type": "stream",
     "text": [
      "Sample rate is 44100Hz\n",
      "time: 0 ns (started: 2024-11-28 00:35:54 -08:00)\n"
     ]
    }
   ],
   "source": [
    "audio.seek(0)\n",
    "data, sr = sf.read(audio)\n",
    "if (data.ndim == 2): data = data.mean(axis=1).astype(data.dtype)\n",
    "print(\"Sample rate is {0}Hz\".format(sr))"
   ]
  },
  {
   "cell_type": "code",
   "execution_count": 10,
   "metadata": {
    "colab": {
     "base_uri": "https://localhost:8080/"
    },
    "id": "9eFG2ZVUJCmU",
    "outputId": "3a30ce6b-3dbc-4078-837c-218a4e71120b"
   },
   "outputs": [
    {
     "name": "stdout",
     "output_type": "stream",
     "text": [
      "time: 172 ms (started: 2024-11-28 00:35:54 -08:00)\n"
     ]
    }
   ],
   "source": [
    "if (IN_COLAB):\n",
    "  %run /content/MAAS_Filters.ipynb\n",
    "else:\n",
    "  %run ./MAAS_Filters.ipynb"
   ]
  },
  {
   "cell_type": "code",
   "execution_count": 11,
   "metadata": {},
   "outputs": [
    {
     "ename": "TypeError",
     "evalue": "string indices must be integers, not 'tuple'",
     "output_type": "error",
     "traceback": [
      "\u001b[1;31m---------------------------------------------------------------------------\u001b[0m",
      "\u001b[1;31mTypeError\u001b[0m                                 Traceback (most recent call last)",
      "Cell \u001b[1;32mIn[11], line 1\u001b[0m\n\u001b[1;32m----> 1\u001b[0m SHOULD_SAVE \u001b[38;5;241m=\u001b[39m \u001b[38;5;28;01mFalse\u001b[39;00m \u001b[38;5;28;01mif\u001b[39;00m IN_COLAB \u001b[38;5;129;01mor\u001b[39;00m FILENAME \u001b[38;5;241m==\u001b[39m \u001b[38;5;124m'\u001b[39m\u001b[38;5;124m'\u001b[39m \u001b[38;5;28;01melse\u001b[39;00m \u001b[38;5;28minput\u001b[39m(\u001b[38;5;124m'\u001b[39m\u001b[38;5;124m¿Guardar ./database/\u001b[39m\u001b[38;5;124m'\u001b[39m \u001b[38;5;241m+\u001b[39m \u001b[43mFILENAME\u001b[49m\u001b[43m[\u001b[49m\u001b[38;5;241;43m0\u001b[39;49m\u001b[43m,\u001b[49m\u001b[38;5;241;43m-\u001b[39;49m\u001b[38;5;241;43m3\u001b[39;49m\u001b[43m]\u001b[49m \u001b[38;5;241m+\u001b[39m \u001b[38;5;124m'\u001b[39m\u001b[38;5;124mcsv? [y/N]\u001b[39m\u001b[38;5;124m'\u001b[39m)\u001b[38;5;241m.\u001b[39mlower() \u001b[38;5;241m==\u001b[39m \u001b[38;5;124m'\u001b[39m\u001b[38;5;124my\u001b[39m\u001b[38;5;124m'\u001b[39m\n",
      "\u001b[1;31mTypeError\u001b[0m: string indices must be integers, not 'tuple'"
     ]
    },
    {
     "name": "stdout",
     "output_type": "stream",
     "text": [
      "time: 235 ms (started: 2024-11-28 00:35:54 -08:00)\n"
     ]
    }
   ],
   "source": [
    "SHOULD_SAVE = False if IN_COLAB or FILENAME == '' else input('¿Guardar ./database/' + FILENAME[0:-3] + 'csv? [y/N]').lower() == 'y'"
   ]
  },
  {
   "cell_type": "code",
   "execution_count": null,
   "metadata": {
    "colab": {
     "base_uri": "https://localhost:8080/",
     "height": 1000
    },
    "id": "i97ofDC-Jl0u",
    "outputId": "6625aab2-1f09-4c34-9cee-3d9f017f3464"
   },
   "outputs": [],
   "source": [
    "filtered = MAAS_filter(data, sr, None if (not SHOULD_SAVE) else './database/' + FILENAME + '.csv')"
   ]
  },
  {
   "cell_type": "code",
   "execution_count": null,
   "metadata": {
    "colab": {
     "base_uri": "https://localhost:8080/"
    },
    "id": "JDX_4r7_KUUD",
    "outputId": "971f2629-2970-45b8-b0bc-ed2e53fe3a77"
   },
   "outputs": [],
   "source": [
    "filtered"
   ]
  },
  {
   "cell_type": "code",
   "execution_count": null,
   "metadata": {
    "colab": {
     "base_uri": "https://localhost:8080/"
    },
    "id": "gMPY-ItislTB",
    "outputId": "fa9282d3-2ae2-45c4-c077-c41c40559c65"
   },
   "outputs": [],
   "source": [
    "def LinearRegressionMAAS(timepairsRec,timepairsTest,details):\n",
    "  timepairsRec = np.array(timepairsRec)\n",
    "  timepairsTest = np.array(timepairsTest)\n",
    "  n = len(timepairsRec)\n",
    "  xi = timepairsRec\n",
    "  yi = timepairsTest\n",
    "  xi2=xi**2\n",
    "  yi2=yi**2\n",
    "  xiyi=xi*yi\n",
    "  table=np.transpose([xi,yi,xi2,yi2,xiyi])\n",
    "  xiS=np.sum(xi)\n",
    "  yiS=np.sum(yi)\n",
    "  xi2S=np.sum(xi2)\n",
    "  yi2S=np.sum(yi2)\n",
    "  xiyiS=np.sum(xiyi)\n",
    "  sumApp=([xiS,yiS,xi2S,np.around(yi2S,decimals=2),xiyiS])  # Creacion de la tabla de sumatorias\n",
    "\n",
    "  # Paso 1. Calculo de a1\n",
    "  a1=(n*(xiyiS)-(xiS*yiS))/(n*xi2S-(xiS**2))\n",
    "  xProm=xiS/n\n",
    "  yProm=yiS/n\n",
    "\n",
    "  # Paso 2. Calculo de a0\n",
    "  a0=yProm-(a1*xProm)\n",
    "\n",
    "  # Coeficiente de correlacion\n",
    "  r=(n*xiyiS - (xiS*yiS))/((math.sqrt(n*(xi2S)-(xiS**2)))*(math.sqrt(n*(yi2S)-(yiS**2))))\n",
    "\n",
    "  # Desviacion estandar\n",
    "  sig=math.sqrt(((n*(yi2S))-(yiS**2))/(n*(n-1)))\n",
    "\n",
    "  # Graficacion\n",
    "  yG= a1*xi + a0\n",
    "  plt.plot(xi,yG,'bo-')\n",
    "  plt.plot(xi,yi,'ko')\n",
    "  plt.grid()\n",
    "  plt.title(\"Window\")\n",
    "  plt.xticks(xi)\n",
    "  plt.show()\n",
    "  print(\"r =\",np.around(r,decimals=6),\"\\nr^2 =\",np.around(r**2,decimals=6))\n",
    "  if(details):\n",
    "    print(\"a1 =\",np.around(a1,decimals=6))\n",
    "    print(\"a0 =\",np.around(a0,decimals=6))\n",
    "    print(\"y =\",np.around(a1,decimals=4),\"x +\",np.around(a0,decimals=4))\n",
    "    print(\"Desviación estándar:\",np.around(sig,decimals=4))\n",
    "    print()\n",
    "  return (r)\n"
   ]
  },
  {
   "cell_type": "code",
   "execution_count": null,
   "metadata": {
    "colab": {
     "base_uri": "https://localhost:8080/"
    },
    "id": "kF4FV0d1tGQ3",
    "outputId": "645465ca-b6ba-4c0c-ea31-f8e2fd600d4a"
   },
   "outputs": [],
   "source": [
    "def SlidingWindowRegression(recording_song,test_song,step_size, silent = True):\n",
    "\n",
    "  n = len(recording_song)\n",
    "  m = test_song.shape[1]\n",
    "  r_arr = []\n",
    "  count = 0\n",
    "  for i in range(0, m-n+1, step_size):\n",
    "   current = test_song[:,i:i+n]\n",
    "   timepairsRec = []\n",
    "   timepairsTest = []\n",
    "   for j in range(current.shape[1]):\n",
    "\n",
    "      if(abs(current[1,j] - recording_song[1][j]) < 5):\n",
    "\n",
    "        timepairsRec.append(recording_song[0][j])\n",
    "        timepairsTest.append(current[0,j])\n",
    "\n",
    "   count += 1\n",
    "\n",
    "   if len(timepairsRec) > 1 and len(timepairsTest) > 1:\n",
    "     r = (LinearRegressionMAAS(timepairsRec,timepairsTest,False))**2\n",
    "     r_arr = np.append(r_arr,r)\n",
    "     if (not silent): print(f'Window {count} done successfully.')\n",
    "\n",
    "   else:\n",
    "     if (not silent): print(f'Window {count} done, no pairs found.')\n",
    "\n",
    "  if (np.any(r_arr)):\n",
    "    return(np.max(r_arr))\n",
    "\n",
    "  else:\n",
    "    if (not silent): print(\"Zero matches.\\n\")\n",
    "\n",
    "    return(0)"
   ]
  },
  {
   "cell_type": "code",
   "execution_count": null,
   "metadata": {},
   "outputs": [],
   "source": [
    "def get_database():\n",
    "    filenames = listdir(\"/content/\" if IN_COLAB else \"./database/\")\n",
    "    return [ filename for filename in filenames if filename.endswith( \".csv\" ) ]"
   ]
  },
  {
   "cell_type": "code",
   "execution_count": null,
   "metadata": {
    "colab": {
     "base_uri": "https://localhost:8080/"
    },
    "id": "ZTvSeXystNm9",
    "outputId": "dcd3f2f1-34e6-409f-bb60-56be62bcb4bf"
   },
   "outputs": [],
   "source": [
    "def compare(filtered_song, db_obj, silent = True):\n",
    "    test_song = np.transpose(np.genfromtxt((\"/content/\" if IN_COLAB else \"./database/\") + db_obj, delimiter=\",\", skip_header=1))\n",
    "    \n",
    "    #test_song is an np array\n",
    "    #filtered is a python list\n",
    "    \n",
    "    n = len(filtered_song[1])\n",
    "    \n",
    "    # SlidingWindowRegression already squares 'r'\n",
    "    r2 = SlidingWindowRegression(filtered_song,test_song,75,silent)\n",
    "    \n",
    "    if (r2):\n",
    "      if (not silent): print(\"Best R^2:\", r2)\n",
    "    else:\n",
    "      if (not silent): print(f\"Zero correlation found for {db_obj}.\")\n",
    "    return r2"
   ]
  },
  {
   "cell_type": "code",
   "execution_count": null,
   "metadata": {},
   "outputs": [],
   "source": [
    "database = get_database()\n",
    "results = {}\n",
    "for SONG in database:\n",
    "    results[SONG] = compare(filtered, SONG)\n",
    "\n",
    "print(f\"La canción identificada fue {max(results, key=results.get)}\")"
   ]
  }
 ],
 "metadata": {
  "colab": {
   "provenance": []
  },
  "kernelspec": {
   "display_name": "Python 3 (ipykernel)",
   "language": "python",
   "name": "python3"
  },
  "language_info": {
   "codemirror_mode": {
    "name": "ipython",
    "version": 3
   },
   "file_extension": ".py",
   "mimetype": "text/x-python",
   "name": "python",
   "nbconvert_exporter": "python",
   "pygments_lexer": "ipython3",
   "version": "3.12.7"
  }
 },
 "nbformat": 4,
 "nbformat_minor": 4
}
